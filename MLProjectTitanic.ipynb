{
 "cells": [
  {
   "cell_type": "code",
   "execution_count": 30,
   "id": "4729cc1c",
   "metadata": {
    "scrolled": true
   },
   "outputs": [
    {
     "name": "stdout",
     "output_type": "stream",
     "text": [
      "       PassengerId  Survived  Pclass     Age   SibSp   Parch    Fare\n",
      "count       891.00    891.00  891.00  714.00  891.00  891.00  891.00\n",
      "mean        446.00      0.38    2.31   29.70    0.52    0.38   32.20\n",
      "std         257.35      0.49    0.84   14.53    1.10    0.81   49.69\n",
      "min           1.00      0.00    1.00    0.42    0.00    0.00    0.00\n",
      "25%         223.50      0.00    2.00   20.12    0.00    0.00    7.91\n",
      "50%         446.00      0.00    3.00   28.00    0.00    0.00   14.45\n",
      "75%         668.50      1.00    3.00   38.00    1.00    0.00   31.00\n",
      "max         891.00      1.00    3.00   80.00    8.00    6.00  512.33\n",
      "\n",
      "\n",
      "        PassengerId  Survived  Pclass                     Name   Sex     Age  \\\n",
      "count        891.00    891.00  891.00                      891   891  714.00   \n",
      "unique          NaN       NaN     NaN                      891     2     NaN   \n",
      "top             NaN       NaN     NaN  Braund, Mr. Owen Harris  male     NaN   \n",
      "freq            NaN       NaN     NaN                        1   577     NaN   \n",
      "mean         446.00      0.38    2.31                      NaN   NaN   29.70   \n",
      "std          257.35      0.49    0.84                      NaN   NaN   14.53   \n",
      "min            1.00      0.00    1.00                      NaN   NaN    0.42   \n",
      "25%          223.50      0.00    2.00                      NaN   NaN   20.12   \n",
      "50%          446.00      0.00    3.00                      NaN   NaN   28.00   \n",
      "75%          668.50      1.00    3.00                      NaN   NaN   38.00   \n",
      "max          891.00      1.00    3.00                      NaN   NaN   80.00   \n",
      "\n",
      "         SibSp   Parch  Ticket    Fare    Cabin Embarked  \n",
      "count   891.00  891.00     891  891.00      204      889  \n",
      "unique     NaN     NaN     681     NaN      147        3  \n",
      "top        NaN     NaN  347082     NaN  B96 B98        S  \n",
      "freq       NaN     NaN       7     NaN        4      644  \n",
      "mean      0.52    0.38     NaN   32.20      NaN      NaN  \n",
      "std       1.10    0.81     NaN   49.69      NaN      NaN  \n",
      "min       0.00    0.00     NaN    0.00      NaN      NaN  \n",
      "25%       0.00    0.00     NaN    7.91      NaN      NaN  \n",
      "50%       0.00    0.00     NaN   14.45      NaN      NaN  \n",
      "75%       1.00    0.00     NaN   31.00      NaN      NaN  \n",
      "max       8.00    6.00     NaN  512.33      NaN      NaN  \n"
     ]
    }
   ],
   "source": [
    "##import necessary libraries\n",
    "#data analysis libraries\n",
    "import numpy as np\n",
    "import pandas as pd\n",
    "\n",
    "pd.set_option('display.width', None)#pixels\n",
    "pd.set_option('display.max_column', None)\n",
    "pd.set_option('precision', 2)\n",
    "\n",
    "#visualization libraries\n",
    "import matplotlib.pyplot as plt\n",
    "import seaborn as sbn\n",
    "\n",
    "#ignore warnings\n",
    "import warnings\n",
    "warnings.filterwarnings('ignore')\n",
    "\n",
    "#read in and explore the historic data\n",
    "\n",
    "#import train and test CSV files\n",
    "train=pd.read_csv('train.csv') #12columns  #dataset contains both data and metadata\n",
    "test=pd.read_csv('test.csv') #11 columns\n",
    "\n",
    "#take a look at the training data\n",
    "print(train.describe())\n",
    "print(\"\\n\")\n",
    "print(train.describe(include=\"all\"))"
   ]
  },
  {
   "cell_type": "code",
   "execution_count": 11,
   "id": "f8046f14",
   "metadata": {
    "scrolled": true
   },
   "outputs": [],
   "source": [
    "#del train['Name',Ticket','Cabin']\n",
    "#print(train)\n",
    "#train['Sex'] = train['Sex'].map({'male':1,'female':0})\n",
    "#print(train)"
   ]
  },
  {
   "cell_type": "code",
   "execution_count": 66,
   "id": "23e14441",
   "metadata": {
    "scrolled": true
   },
   "outputs": [
    {
     "name": "stdout",
     "output_type": "stream",
     "text": [
      "        PassengerId  Survived  Pclass                     Name   Sex     Age  \\\n",
      "count        891.00    891.00  891.00                      891   891  714.00   \n",
      "unique          NaN       NaN     NaN                      891     2     NaN   \n",
      "top             NaN       NaN     NaN  Braund, Mr. Owen Harris  male     NaN   \n",
      "freq            NaN       NaN     NaN                        1   577     NaN   \n",
      "mean         446.00      0.38    2.31                      NaN   NaN   29.70   \n",
      "std          257.35      0.49    0.84                      NaN   NaN   14.53   \n",
      "min            1.00      0.00    1.00                      NaN   NaN    0.42   \n",
      "25%          223.50      0.00    2.00                      NaN   NaN   20.12   \n",
      "50%          446.00      0.00    3.00                      NaN   NaN   28.00   \n",
      "75%          668.50      1.00    3.00                      NaN   NaN   38.00   \n",
      "max          891.00      1.00    3.00                      NaN   NaN   80.00   \n",
      "\n",
      "         SibSp   Parch  Ticket    Fare    Cabin Embarked  \n",
      "count   891.00  891.00     891  891.00      204      889  \n",
      "unique     NaN     NaN     681     NaN      147        3  \n",
      "top        NaN     NaN  347082     NaN  B96 B98        S  \n",
      "freq       NaN     NaN       7     NaN        4      644  \n",
      "mean      0.52    0.38     NaN   32.20      NaN      NaN  \n",
      "std       1.10    0.81     NaN   49.69      NaN      NaN  \n",
      "min       0.00    0.00     NaN    0.00      NaN      NaN  \n",
      "25%       0.00    0.00     NaN    7.91      NaN      NaN  \n",
      "50%       0.00    0.00     NaN   14.45      NaN      NaN  \n",
      "75%       1.00    0.00     NaN   31.00      NaN      NaN  \n",
      "max       8.00    6.00     NaN  512.33      NaN      NaN  \n"
     ]
    }
   ],
   "source": [
    "print(train.describe(include=\"all\"))\n",
    "#value missing in age, Cabin, Embarked"
   ]
  },
  {
   "cell_type": "code",
   "execution_count": 13,
   "id": "65e02d4e",
   "metadata": {},
   "outputs": [
    {
     "name": "stdout",
     "output_type": "stream",
     "text": [
      "\n",
      "\n",
      "Train data:\n",
      " Index(['PassengerId', 'Survived', 'Pclass', 'Name', 'Sex', 'Age', 'SibSp',\n",
      "       'Parch', 'Ticket', 'Fare', 'Cabin', 'Embarked'],\n",
      "      dtype='object')\n",
      "\n",
      "\n",
      "Test data:\n",
      " Index(['PassengerId', 'Pclass', 'Name', 'Sex', 'Age', 'SibSp', 'Parch',\n",
      "       'Ticket', 'Fare', 'Cabin', 'Embarked'],\n",
      "      dtype='object')\n",
      "\n",
      "   PassengerId  Survived  Pclass  \\\n",
      "0            1         0       3   \n",
      "1            2         1       1   \n",
      "2            3         1       3   \n",
      "3            4         1       1   \n",
      "4            5         0       3   \n",
      "\n",
      "                                                Name     Sex   Age  SibSp  \\\n",
      "0                            Braund, Mr. Owen Harris    male  22.0      1   \n",
      "1  Cumings, Mrs. John Bradley (Florence Briggs Th...  female  38.0      1   \n",
      "2                             Heikkinen, Miss. Laina  female  26.0      0   \n",
      "3       Futrelle, Mrs. Jacques Heath (Lily May Peel)  female  35.0      1   \n",
      "4                           Allen, Mr. William Henry    male  35.0      0   \n",
      "\n",
      "   Parch            Ticket   Fare Cabin Embarked  \n",
      "0      0         A/5 21171   7.25   NaN        S  \n",
      "1      0          PC 17599  71.28   C85        C  \n",
      "2      0  STON/O2. 3101282   7.92   NaN        S  \n",
      "3      0            113803  53.10  C123        S  \n",
      "4      0            373450   8.05   NaN        S  \n",
      "     PassengerId  Survived  Pclass  \\\n",
      "370          371         1       1   \n",
      "495          496         0       3   \n",
      "442          443         0       3   \n",
      "96            97         0       1   \n",
      "401          402         0       3   \n",
      "67            68         0       3   \n",
      "430          431         1       1   \n",
      "181          182         0       2   \n",
      "801          802         1       2   \n",
      "264          265         0       3   \n",
      "374          375         0       3   \n",
      "327          328         1       2   \n",
      "312          313         0       2   \n",
      "564          565         0       3   \n",
      "273          274         0       1   \n",
      "143          144         0       3   \n",
      "776          777         0       3   \n",
      "586          587         0       2   \n",
      "360          361         0       3   \n",
      "474          475         0       3   \n",
      "\n",
      "                                            Name     Sex   Age  SibSp  Parch  \\\n",
      "370                  Harder, Mr. George Achilles    male  25.0      1      0   \n",
      "495                        Yousseff, Mr. Gerious    male   NaN      0      0   \n",
      "442                    Petterson, Mr. Johan Emil    male  25.0      1      0   \n",
      "96                     Goldschmidt, Mr. George B    male  71.0      0      0   \n",
      "401                              Adams, Mr. John    male  26.0      0      0   \n",
      "67                      Crease, Mr. Ernest James    male  19.0      0      0   \n",
      "430    Bjornstrom-Steffansson, Mr. Mauritz Hakan    male  28.0      0      0   \n",
      "181                             Pernot, Mr. Rene    male   NaN      0      0   \n",
      "801  Collyer, Mrs. Harvey (Charlotte Annie Tate)  female  31.0      1      1   \n",
      "264                           Henry, Miss. Delia  female   NaN      0      0   \n",
      "374                   Palsson, Miss. Stina Viola  female   3.0      3      1   \n",
      "327                      Ball, Mrs. (Ada E Hall)  female  36.0      0      0   \n",
      "312        Lahtinen, Mrs. William (Anna Sylfven)  female  26.0      1      1   \n",
      "564               Meanwell, Miss. (Marion Ogden)  female   NaN      0      0   \n",
      "273                        Natsch, Mr. Charles H    male  37.0      0      1   \n",
      "143                          Burke, Mr. Jeremiah    male  19.0      0      0   \n",
      "776                             Tobin, Mr. Roger    male   NaN      0      0   \n",
      "586                      Jarvis, Mr. John Denzil    male  47.0      0      0   \n",
      "360                           Skoog, Mr. Wilhelm    male  40.0      1      4   \n",
      "474                  Strandberg, Miss. Ida Sofia  female  22.0      0      0   \n",
      "\n",
      "                Ticket   Fare Cabin Embarked  \n",
      "370              11765  55.44   E50        C  \n",
      "495               2627  14.46   NaN        C  \n",
      "442             347076   7.78   NaN        S  \n",
      "96            PC 17754  34.65    A5        C  \n",
      "401             341826   8.05   NaN        S  \n",
      "67           S.P. 3464   8.16   NaN        S  \n",
      "430             110564  26.55   C52        S  \n",
      "181      SC/PARIS 2131  15.05   NaN        C  \n",
      "801         C.A. 31921  26.25   NaN        S  \n",
      "264             382649   7.75   NaN        Q  \n",
      "374             349909  21.07   NaN        S  \n",
      "327              28551  13.00     D        S  \n",
      "312             250651  26.00   NaN        S  \n",
      "564  SOTON/O.Q. 392087   8.05   NaN        S  \n",
      "273           PC 17596  29.70  C118        C  \n",
      "143             365222   6.75   NaN        Q  \n",
      "776             383121   7.75   F38        Q  \n",
      "586             237565  15.00   NaN        S  \n",
      "360             347088  27.90   NaN        S  \n",
      "474               7553   9.84   NaN        S  \n",
      "Data types for each feature:\n",
      "PassengerId      int64\n",
      "Survived         int64\n",
      "Pclass           int64\n",
      "Name            object\n",
      "Sex             object\n",
      "Age            float64\n",
      "SibSp            int64\n",
      "Parch            int64\n",
      "Ticket          object\n",
      "Fare           float64\n",
      "Cabin           object\n",
      "Embarked        object\n",
      "dtype: object\n"
     ]
    }
   ],
   "source": [
    "print( \"\\n\\nTrain data:\\n\", train.columns)\n",
    "print(\"\\n\\nTest data:\\n\", test.columns)\n",
    "print()\n",
    "print(train.head()) #first 5 rows of data\n",
    "print(train.sample(20))\n",
    "\n",
    "print(\"Data types for each feature:\")\n",
    "print(train.dtypes)"
   ]
  },
  {
   "cell_type": "code",
   "execution_count": 14,
   "id": "79a546df",
   "metadata": {},
   "outputs": [
    {
     "data": {
      "text/plain": [
       "19.865319865319865"
      ]
     },
     "execution_count": 14,
     "metadata": {},
     "output_type": "execute_result"
    }
   ],
   "source": [
    "((891-714)/891)*100"
   ]
  },
  {
   "cell_type": "code",
   "execution_count": 28,
   "id": "8b788029",
   "metadata": {},
   "outputs": [
    {
     "data": {
      "text/plain": [
       "77.10437710437711"
      ]
     },
     "execution_count": 28,
     "metadata": {},
     "output_type": "execute_result"
    }
   ],
   "source": [
    "((891-204)/891)*100"
   ]
  },
  {
   "cell_type": "code",
   "execution_count": 15,
   "id": "6d39de68",
   "metadata": {},
   "outputs": [
    {
     "name": "stdout",
     "output_type": "stream",
     "text": [
      "PassengerId      0\n",
      "Survived         0\n",
      "Pclass           0\n",
      "Name             0\n",
      "Sex              0\n",
      "Age            177\n",
      "SibSp            0\n",
      "Parch            0\n",
      "Ticket           0\n",
      "Fare             0\n",
      "Cabin          687\n",
      "Embarked         2\n",
      "dtype: int64\n"
     ]
    }
   ],
   "source": [
    "print(pd.isnull(train).sum())"
   ]
  },
  {
   "cell_type": "code",
   "execution_count": 16,
   "id": "444e7e84",
   "metadata": {},
   "outputs": [
    {
     "data": {
      "image/png": "[encoded data removed]",
      "text/plain": [
       "<Figure size 432x288 with 1 Axes>"
      ]
     },
     "metadata": {
      "needs_background": "light"
     },
     "output_type": "display_data"
    }
   ],
   "source": [
    "#[3:31 PM] Jeetendra Singh\n",
    "#4) Data Visualization\n",
    "#*************************************\n",
    "#It's time to visualize our data so we can\n",
    "#  estimate few predictions\n",
    "#-----------------\n",
    "#4.A) Sex Feature\n",
    "#-----------------\n",
    "#draw a bar plot of survival by sex\n",
    "sbn.barplot(x=\"Sex\", y=\"Survived\", data=train)\n",
    "plt.show()\n"
   ]
  },
  {
   "cell_type": "code",
   "execution_count": 9,
   "id": "c90b105c",
   "metadata": {},
   "outputs": [
    {
     "name": "stdout",
     "output_type": "stream",
     "text": [
      "------------------\n",
      "\n",
      "\n",
      "     PassengerId  Survived  Pclass                                               Name     Sex   Age  SibSp  Parch            Ticket   Fare Cabin Embarked\n",
      "0              1         0       3                            Braund, Mr. Owen Harris    male  22.0      1      0         A/5 21171   7.25   NaN        S\n",
      "1              2         1       1  Cumings, Mrs. John Bradley (Florence Briggs Th...  female  38.0      1      0          PC 17599  71.28   C85        C\n",
      "2              3         1       3                             Heikkinen, Miss. Laina  female  26.0      0      0  STON/O2. 3101282   7.92   NaN        S\n",
      "3              4         1       1       Futrelle, Mrs. Jacques Heath (Lily May Peel)  female  35.0      1      0            113803  53.10  C123        S\n",
      "4              5         0       3                           Allen, Mr. William Henry    male  35.0      0      0            373450   8.05   NaN        S\n",
      "..           ...       ...     ...                                                ...     ...   ...    ...    ...               ...    ...   ...      ...\n",
      "886          887         0       2                              Montvila, Rev. Juozas    male  27.0      0      0            211536  13.00   NaN        S\n",
      "887          888         1       1                       Graham, Miss. Margaret Edith  female  19.0      0      0            112053  30.00   B42        S\n",
      "888          889         0       3           Johnston, Miss. Catherine Helen \"Carrie\"  female   NaN      1      2        W./C. 6607  23.45   NaN        S\n",
      "889          890         1       1                              Behr, Mr. Karl Howell    male  26.0      0      0            111369  30.00  C148        C\n",
      "890          891         0       3                                Dooley, Mr. Patrick    male  32.0      0      0            370376   7.75   NaN        Q\n",
      "\n",
      "[891 rows x 12 columns]\n",
      "------------------\n",
      "\n",
      "\n",
      "0      0\n",
      "1      1\n",
      "2      1\n",
      "3      1\n",
      "4      0\n",
      "      ..\n",
      "886    0\n",
      "887    1\n",
      "888    0\n",
      "889    1\n",
      "890    0\n",
      "Name: Survived, Length: 891, dtype: int64\n",
      "------------------\n",
      "\n",
      "\n",
      "0      False\n",
      "1       True\n",
      "2       True\n",
      "3       True\n",
      "4      False\n",
      "       ...  \n",
      "886    False\n",
      "887     True\n",
      "888     True\n",
      "889    False\n",
      "890    False\n",
      "Name: Sex, Length: 891, dtype: bool\n",
      "**********\n",
      "\n",
      "\n",
      "1      1\n",
      "2      1\n",
      "3      1\n",
      "8      1\n",
      "9      1\n",
      "      ..\n",
      "880    1\n",
      "882    0\n",
      "885    0\n",
      "887    1\n",
      "888    0\n",
      "Name: Survived, Length: 314, dtype: int64\n",
      "*****************\n",
      "\n",
      "\n",
      "1    233\n",
      "0     81\n",
      "Name: Survived, dtype: int64\n"
     ]
    }
   ],
   "source": [
    "#[3:49 PM] Jeetendra Singh\n",
    "print( \"------------------\\n\\n\"  )\n",
    "print( train  )\n",
    "\n",
    "print( \"------------------\\n\\n\"  )\n",
    "print( train[\"Survived\"]  )\n",
    "print( \"------------------\\n\\n\"  )\n",
    "print( train[\"Sex\"] == 'female'  )\n",
    "\n",
    "\n",
    "print( \"**********\\n\\n\"  )\n",
    "print( train[\"Survived\"][  train[\"Sex\"] == 'female' ]  )\n",
    "\n",
    "print( \"*****************\\n\\n\"  )\n",
    "print(train[\"Survived\"][train[\"Sex\"] == 'female'].value_counts() )\n"
   ]
  },
  {
   "cell_type": "code",
   "execution_count": 10,
   "id": "bbe041c9",
   "metadata": {},
   "outputs": [
    {
     "data": {
      "image/png": "[encoded data removed]",
      "text/plain": [
       "<Figure size 432x288 with 1 Axes>"
      ]
     },
     "metadata": {
      "needs_background": "light"
     },
     "output_type": "display_data"
    },
    {
     "name": "stdout",
     "output_type": "stream",
     "text": [
      "------------------\n",
      "\n",
      "\n",
      "     PassengerId  Survived  Pclass                                               Name     Sex   Age  SibSp  Parch            Ticket   Fare Cabin Embarked\n",
      "0              1         0       3                            Braund, Mr. Owen Harris    male  22.0      1      0         A/5 21171   7.25   NaN        S\n",
      "1              2         1       1  Cumings, Mrs. John Bradley (Florence Briggs Th...  female  38.0      1      0          PC 17599  71.28   C85        C\n",
      "2              3         1       3                             Heikkinen, Miss. Laina  female  26.0      0      0  STON/O2. 3101282   7.92   NaN        S\n",
      "3              4         1       1       Futrelle, Mrs. Jacques Heath (Lily May Peel)  female  35.0      1      0            113803  53.10  C123        S\n",
      "4              5         0       3                           Allen, Mr. William Henry    male  35.0      0      0            373450   8.05   NaN        S\n",
      "..           ...       ...     ...                                                ...     ...   ...    ...    ...               ...    ...   ...      ...\n",
      "886          887         0       2                              Montvila, Rev. Juozas    male  27.0      0      0            211536  13.00   NaN        S\n",
      "887          888         1       1                       Graham, Miss. Margaret Edith  female  19.0      0      0            112053  30.00   B42        S\n",
      "888          889         0       3           Johnston, Miss. Catherine Helen \"Carrie\"  female   NaN      1      2        W./C. 6607  23.45   NaN        S\n",
      "889          890         1       1                              Behr, Mr. Karl Howell    male  26.0      0      0            111369  30.00  C148        C\n",
      "890          891         0       3                                Dooley, Mr. Patrick    male  32.0      0      0            370376   7.75   NaN        Q\n",
      "\n",
      "[891 rows x 12 columns]\n",
      "------------------\n",
      "\n",
      "\n",
      "0      0\n",
      "1      1\n",
      "2      1\n",
      "3      1\n",
      "4      0\n",
      "      ..\n",
      "886    0\n",
      "887    1\n",
      "888    0\n",
      "889    1\n",
      "890    0\n",
      "Name: Survived, Length: 891, dtype: int64\n",
      "------------------\n",
      "\n",
      "\n",
      "0      False\n",
      "1       True\n",
      "2       True\n",
      "3       True\n",
      "4      False\n",
      "       ...  \n",
      "886    False\n",
      "887     True\n",
      "888     True\n",
      "889    False\n",
      "890    False\n",
      "Name: Sex, Length: 891, dtype: bool\n",
      "**********\n",
      "\n",
      "\n",
      "1      1\n",
      "2      1\n",
      "3      1\n",
      "8      1\n",
      "9      1\n",
      "      ..\n",
      "880    1\n",
      "882    0\n",
      "885    0\n",
      "887    1\n",
      "888    0\n",
      "Name: Survived, Length: 314, dtype: int64\n",
      "*****************\n",
      "\n",
      "\n",
      "1    233\n",
      "0     81\n",
      "Name: Survived, dtype: int64\n",
      "====================================\n",
      "\n",
      "\n",
      "1    0.74\n",
      "0    0.26\n",
      "Name: Survived, dtype: float64\n",
      "0.7420382165605095\n",
      "\n",
      "\n",
      "\n",
      "Percentage of females who survived: 74.20382165605095\n",
      "\n",
      "Percentage of males who survived: 18.890814558058924\n"
     ]
    }
   ],
   "source": [
    "#[3:58 PM] Jeetendra Singh\n",
    "    #-----------------\n",
    "#4.A) Sex Feature\n",
    "#-----------------\n",
    "#draw a bar plot of survival by sex\n",
    "sbn.barplot(x=\"Sex\", y=\"Survived\", data=train)\n",
    "plt.show()\n",
    "\n",
    "\n",
    "#print(\" percentages of females vs. males that survive\")\n",
    "#print( \"Percentage of females who survived:\", train[\"Survived\"][train[\"Sex\"] == 'female'].value_counts(normalize = True)[1]*100  )\n",
    "\n",
    "print( \"------------------\\n\\n\"  )\n",
    "print( train  )\n",
    "\n",
    "print( \"------------------\\n\\n\"  )\n",
    "print( train[\"Survived\"]  )\n",
    "print( \"------------------\\n\\n\"  )\n",
    "print( train[\"Sex\"] == 'female'  )\n",
    "\n",
    "\n",
    "print( \"**********\\n\\n\"  )\n",
    "print( train[\"Survived\"][  train[\"Sex\"] == 'female' ]  )\n",
    "\n",
    "print( \"*****************\\n\\n\"  )\n",
    "print(train[\"Survived\"][train[\"Sex\"] == 'female'].value_counts() )\n",
    "\n",
    "print( \"====================================\\n\\n\"  )\n",
    "print( train[\"Survived\"][train[\"Sex\"] == 'female'].value_counts(normalize = True)  )\n",
    "\n",
    "print( train[\"Survived\"][train[\"Sex\"] == 'female'].value_counts(normalize = True)[1]  )\n",
    "\n",
    "\n",
    "print( \"\\n\\n\\nPercentage of females who survived:\", train[\"Survived\"][train[\"Sex\"] == 'female'].value_counts(normalize = True)[1]*100  )\n",
    "print( \"\\nPercentage of males who survived:\", train[\"Survived\"][train[\"Sex\"] == 'male'].value_counts(normalize = True)[1]*100  )\n"
   ]
  },
  {
   "cell_type": "code",
   "execution_count": 14,
   "id": "be5f5792",
   "metadata": {},
   "outputs": [
    {
     "data": {
      "image/png": "[encoded data removed]",
      "text/plain": [
       "<Figure size 432x288 with 1 Axes>"
      ]
     },
     "metadata": {
      "needs_background": "light"
     },
     "output_type": "display_data"
    }
   ],
   "source": [
    "#[4:06 PM] Jeetendra Singh\n",
    "    #--------------------\n",
    "#4.B) Pclass Feature\n",
    "#--------------------\n",
    "#draw a bar plot of survival by Pclass\n",
    "sbn.barplot(x=\"Pclass\", y=\"Survived\", data=train)\n",
    "plt.show()\n"
   ]
  },
  {
   "cell_type": "code",
   "execution_count": 15,
   "id": "b6ffb519",
   "metadata": {},
   "outputs": [
    {
     "name": "stdout",
     "output_type": "stream",
     "text": [
      "Percentage of Pclass = 1 who survived: 62.96296296296296\n",
      "Percentage of Pclass = 2 who survived: 47.28260869565217\n",
      "Percentage of Pclass = 3 who survived: 24.236252545824847\n"
     ]
    }
   ],
   "source": [
    "#[4:18 PM] Jeetendra Singh\n",
    "    #print( percentage of people by Pclass that survived\n",
    "print(\"Percentage of Pclass = 1 who survived:\", train[\"Survived\"][train[\"Pclass\"] == 1].value_counts(normalize = True)[1]*100)\n",
    "print(\"Percentage of Pclass = 2 who survived:\", train[\"Survived\"][train[\"Pclass\"] == 2].value_counts(normalize = True)[1]*100)\n",
    "print(\"Percentage of Pclass = 3 who survived:\", train[\"Survived\"][train[\"Pclass\"] == 3].value_counts(normalize = True)[1]*100)\n"
   ]
  },
  {
   "cell_type": "code",
   "execution_count": 16,
   "id": "79243f7e",
   "metadata": {},
   "outputs": [
    {
     "name": "stdout",
     "output_type": "stream",
     "text": [
      "\n",
      "Percentage of Pclass = 1 who survived:\n",
      "\n",
      " 1    136\n",
      "0     80\n",
      "Name: Survived, dtype: int64\n",
      "\n",
      "Percentage of Pclass = 1 who survived:\n",
      "\n",
      " 1    0.63\n",
      "0    0.37\n",
      "Name: Survived, dtype: float64\n",
      "\n",
      "Percentage of Pclass = 1 who survived:\n",
      "\n",
      " 0.6296296296296297\n"
     ]
    },
    {
     "data": {
      "image/png": "[encoded data removed]",
      "text/plain": [
       "<Figure size 432x288 with 1 Axes>"
      ]
     },
     "metadata": {
      "needs_background": "light"
     },
     "output_type": "display_data"
    },
    {
     "name": "stdout",
     "output_type": "stream",
     "text": [
      "Percentage of SibSp = 0 who survived: 34.53947368421053\n",
      "Percentage of SibSp = 1 who survived: 53.588516746411486\n",
      "Percentage of SibSp = 2 who survived: 46.42857142857143\n"
     ]
    },
    {
     "data": {
      "image/png": "[encoded data removed]",
      "text/plain": [
       "<Figure size 432x288 with 1 Axes>"
      ]
     },
     "metadata": {
      "needs_background": "light"
     },
     "output_type": "display_data"
    }
   ],
   "source": [
    "#\n",
    "print()\n",
    "print( \"Percentage of Pclass = 1 who survived:\\n\\n\", train[\"Survived\"][train[\"Pclass\"] == 1].value_counts() )\n",
    "print()\n",
    "print( \"Percentage of Pclass = 1 who survived:\\n\\n\", train[\"Survived\"][train[\"Pclass\"] == 1].value_counts(normalize = True) )\n",
    "print()\n",
    "print( \"Percentage of Pclass = 1 who survived:\\n\\n\", train[\"Survived\"][train[\"Pclass\"] == 1].value_counts(normalize = True)[1] )\n",
    "#----------------------\n",
    "#4.C) SibSp Feature\n",
    "#----------------------\n",
    "#draw a bar plot for SibSp vs.survival\n",
    "sbn.barplot(x=\"SibSp\", y=\"Survived\", data=train)\n",
    "plt.show()\n",
    "#I won't be printing individual percent values for all of these.\n",
    "print(\"Percentage of SibSp = 0 who survived:\",train[\"Survived\"] [train[\"SibSp\"] == 0].value_counts(normalize = True)[1]*100)\n",
    "print(\"Percentage of SibSp = 1 who survived:\",train[\"Survived\"][train[\"SibSp\"] == 1].value_counts(normalize = True)[1]*100)\n",
    "print(\"Percentage of SibSp = 2 who survived:\",train[\"Survived\"][train[\"SibSp\"] ==2].value_counts(normalize = True)[1]*100)\n",
    "plt.show()\n",
    "\n",
    "#--------------------#4.D)Parch Feature#--------------------#draw a bar plot for Parch vs. survival\n",
    "sbn.barplot(x=\"Parch\", y=\"Survived\", data=train)\n",
    "plt.show()"
   ]
  },
  {
   "cell_type": "code",
   "execution_count": 17,
   "id": "f8c8b10d",
   "metadata": {},
   "outputs": [
    {
     "name": "stdout",
     "output_type": "stream",
     "text": [
      "     PassengerId  Survived  Pclass                                               Name     Sex   Age  SibSp  Parch            Ticket   Fare Cabin Embarked     AgeGroup\n",
      "0              1         0       3                            Braund, Mr. Owen Harris    male  22.0      1      0         A/5 21171   7.25   NaN        S      Student\n",
      "1              2         1       1  Cumings, Mrs. John Bradley (Florence Briggs Th...  female  38.0      1      0          PC 17599  71.28   C85        C        Adult\n",
      "2              3         1       3                             Heikkinen, Miss. Laina  female  26.0      0      0  STON/O2. 3101282   7.92   NaN        S  Young Adult\n",
      "3              4         1       1       Futrelle, Mrs. Jacques Heath (Lily May Peel)  female  35.0      1      0            113803  53.10  C123        S  Young Adult\n",
      "4              5         0       3                           Allen, Mr. William Henry    male  35.0      0      0            373450   8.05   NaN        S  Young Adult\n",
      "..           ...       ...     ...                                                ...     ...   ...    ...    ...               ...    ...   ...      ...          ...\n",
      "886          887         0       2                              Montvila, Rev. Juozas    male  27.0      0      0            211536  13.00   NaN        S  Young Adult\n",
      "887          888         1       1                       Graham, Miss. Margaret Edith  female  19.0      0      0            112053  30.00   B42        S      Student\n",
      "888          889         0       3           Johnston, Miss. Catherine Helen \"Carrie\"  female  -0.5      1      2        W./C. 6607  23.45   NaN        S      unknown\n",
      "889          890         1       1                              Behr, Mr. Karl Howell    male  26.0      0      0            111369  30.00  C148        C  Young Adult\n",
      "890          891         0       3                                Dooley, Mr. Patrick    male  32.0      0      0            370376   7.75   NaN        Q  Young Adult\n",
      "\n",
      "[891 rows x 13 columns]\n"
     ]
    },
    {
     "data": {
      "image/png": "[encoded data removed]",
      "text/plain": [
       "<Figure size 432x288 with 1 Axes>"
      ]
     },
     "metadata": {
      "needs_background": "light"
     },
     "output_type": "display_data"
    }
   ],
   "source": [
    "#-----------------\n",
    "#4.E)Age Feature\n",
    "#-----------------\n",
    "#sort the ages into logical categories\n",
    "train[\"Age\"] = train[\"Age\"].fillna(-0.5)\n",
    "test[\"Age\"] = test[\"Age\"].fillna(-0.5)\n",
    "\n",
    "bins = [-1, 0, 5, 12, 18, 24, 35, 60, np.inf]\n",
    "labels=['unknown', 'Baby', 'Child', 'Teenager', 'Student', 'Young Adult', 'Adult', 'Senior']\n",
    "\n",
    "train['AgeGroup'] = pd.cut(train[\"Age\"], bins, labels=labels)\n",
    "test['AgeGroup'] = pd.cut(test[\"Age\"], bins, labels=labels)\n",
    "print(train)\n",
    "#draw a bar plot of Age vs. survival\n",
    "sbn.barplot(x=\"Survived\", y=\"AgeGroup\", data=train)\n",
    "plt.show()"
   ]
  },
  {
   "cell_type": "code",
   "execution_count": 27,
   "id": "4b089638",
   "metadata": {},
   "outputs": [
    {
     "name": "stdout",
     "output_type": "stream",
     "text": [
      "    PassengerId  Survived  Pclass  \\\n",
      "0             1         0       3   \n",
      "1             2         1       1   \n",
      "2             3         1       3   \n",
      "3             4         1       1   \n",
      "4             5         0       3   \n",
      "5             6         0       3   \n",
      "6             7         0       1   \n",
      "7             8         0       3   \n",
      "8             9         1       3   \n",
      "9            10         1       2   \n",
      "10           11         1       3   \n",
      "11           12         1       1   \n",
      "12           13         0       3   \n",
      "13           14         0       3   \n",
      "14           15         0       3   \n",
      "15           16         1       2   \n",
      "16           17         0       3   \n",
      "17           18         1       2   \n",
      "18           19         0       3   \n",
      "19           20         1       3   \n",
      "20           21         0       2   \n",
      "21           22         1       2   \n",
      "22           23         1       3   \n",
      "23           24         1       1   \n",
      "24           25         0       3   \n",
      "\n",
      "                                                 Name     Sex   Age  SibSp  \\\n",
      "0                             Braund, Mr. Owen Harris    male  22.0      1   \n",
      "1   Cumings, Mrs. John Bradley (Florence Briggs Th...  female  38.0      1   \n",
      "2                              Heikkinen, Miss. Laina  female  26.0      0   \n",
      "3        Futrelle, Mrs. Jacques Heath (Lily May Peel)  female  35.0      1   \n",
      "4                            Allen, Mr. William Henry    male  35.0      0   \n",
      "5                                    Moran, Mr. James    male  -0.5      0   \n",
      "6                             McCarthy, Mr. Timothy J    male  54.0      0   \n",
      "7                      Palsson, Master. Gosta Leonard    male   2.0      3   \n",
      "8   Johnson, Mrs. Oscar W (Elisabeth Vilhelmina Berg)  female  27.0      0   \n",
      "9                 Nasser, Mrs. Nicholas (Adele Achem)  female  14.0      1   \n",
      "10                    Sandstrom, Miss. Marguerite Rut  female   4.0      1   \n",
      "11                           Bonnell, Miss. Elizabeth  female  58.0      0   \n",
      "12                     Saundercock, Mr. William Henry    male  20.0      0   \n",
      "13                        Andersson, Mr. Anders Johan    male  39.0      1   \n",
      "14               Vestrom, Miss. Hulda Amanda Adolfina  female  14.0      0   \n",
      "15                   Hewlett, Mrs. (Mary D Kingcome)   female  55.0      0   \n",
      "16                               Rice, Master. Eugene    male   2.0      4   \n",
      "17                       Williams, Mr. Charles Eugene    male  -0.5      0   \n",
      "18  Vander Planke, Mrs. Julius (Emelia Maria Vande...  female  31.0      1   \n",
      "19                            Masselmani, Mrs. Fatima  female  -0.5      0   \n",
      "20                               Fynney, Mr. Joseph J    male  35.0      0   \n",
      "21                              Beesley, Mr. Lawrence    male  34.0      0   \n",
      "22                        McGowan, Miss. Anna \"Annie\"  female  15.0      0   \n",
      "23                       Sloper, Mr. William Thompson    male  28.0      0   \n",
      "24                      Palsson, Miss. Torborg Danira  female   8.0      3   \n",
      "\n",
      "    Parch            Ticket   Fare Cabin Embarked     AgeGroup  \n",
      "0       0         A/5 21171   7.25   NaN        S      Student  \n",
      "1       0          PC 17599  71.28   C85        C        Adult  \n",
      "2       0  STON/O2. 3101282   7.92   NaN        S  Young Adult  \n",
      "3       0            113803  53.10  C123        S  Young Adult  \n",
      "4       0            373450   8.05   NaN        S  Young Adult  \n",
      "5       0            330877   8.46   NaN        Q      unknown  \n",
      "6       0             17463  51.86   E46        S        Adult  \n",
      "7       1            349909  21.07   NaN        S         Baby  \n",
      "8       2            347742  11.13   NaN        S  Young Adult  \n",
      "9       0            237736  30.07   NaN        C     Teenager  \n",
      "10      1           PP 9549  16.70    G6        S         Baby  \n",
      "11      0            113783  26.55  C103        S        Adult  \n",
      "12      0         A/5. 2151   8.05   NaN        S      Student  \n",
      "13      5            347082  31.27   NaN        S        Adult  \n",
      "14      0            350406   7.85   NaN        S     Teenager  \n",
      "15      0            248706  16.00   NaN        S        Adult  \n",
      "16      1            382652  29.12   NaN        Q         Baby  \n",
      "17      0            244373  13.00   NaN        S      unknown  \n",
      "18      0            345763  18.00   NaN        S  Young Adult  \n",
      "19      0              2649   7.22   NaN        C      unknown  \n",
      "20      0            239865  26.00   NaN        S  Young Adult  \n",
      "21      0            248698  13.00   D56        S  Young Adult  \n",
      "22      0            330923   8.03   NaN        Q     Teenager  \n",
      "23      0            113788  35.50    A6        S  Young Adult  \n",
      "24      1            349909  21.07   NaN        S        Child  \n"
     ]
    }
   ],
   "source": [
    "print(train.head(25))"
   ]
  },
  {
   "cell_type": "code",
   "execution_count": 18,
   "id": "2a091111",
   "metadata": {},
   "outputs": [
    {
     "name": "stdout",
     "output_type": "stream",
     "text": [
      "###############\n",
      "\n",
      "\n",
      "     PassengerId  Survived  Pclass                                               Name     Sex   Age  SibSp  Parch            Ticket   Fare Cabin Embarked     AgeGroup  CabinBool\n",
      "0              1         0       3                            Braund, Mr. Owen Harris    male  22.0      1      0         A/5 21171   7.25   NaN        S      Student          0\n",
      "1              2         1       1  Cumings, Mrs. John Bradley (Florence Briggs Th...  female  38.0      1      0          PC 17599  71.28   C85        C        Adult          1\n",
      "2              3         1       3                             Heikkinen, Miss. Laina  female  26.0      0      0  STON/O2. 3101282   7.92   NaN        S  Young Adult          0\n",
      "3              4         1       1       Futrelle, Mrs. Jacques Heath (Lily May Peel)  female  35.0      1      0            113803  53.10  C123        S  Young Adult          1\n",
      "4              5         0       3                           Allen, Mr. William Henry    male  35.0      0      0            373450   8.05   NaN        S  Young Adult          0\n",
      "..           ...       ...     ...                                                ...     ...   ...    ...    ...               ...    ...   ...      ...          ...        ...\n",
      "886          887         0       2                              Montvila, Rev. Juozas    male  27.0      0      0            211536  13.00   NaN        S  Young Adult          0\n",
      "887          888         1       1                       Graham, Miss. Margaret Edith  female  19.0      0      0            112053  30.00   B42        S      Student          1\n",
      "888          889         0       3           Johnston, Miss. Catherine Helen \"Carrie\"  female  -0.5      1      2        W./C. 6607  23.45   NaN        S      unknown          0\n",
      "889          890         1       1                              Behr, Mr. Karl Howell    male  26.0      0      0            111369  30.00  C148        C  Young Adult          1\n",
      "890          891         0       3                                Dooley, Mr. Patrick    male  32.0      0      0            370376   7.75   NaN        Q  Young Adult          0\n",
      "\n",
      "[891 rows x 14 columns]\n"
     ]
    },
    {
     "data": {
      "image/png": "[encoded data removed]",
      "text/plain": [
       "<Figure size 432x288 with 1 Axes>"
      ]
     },
     "metadata": {
      "needs_background": "light"
     },
     "output_type": "display_data"
    },
    {
     "name": "stdout",
     "output_type": "stream",
     "text": [
      "\n"
     ]
    }
   ],
   "source": [
    "train[\"CabinBool\"] = (train[\"Cabin\"].notnull().astype('int'))\n",
    "test[\"CabinBool\"] = (test[\"Cabin\"].notnull().astype('int'))\n",
    "print(\"###############\\n\\n\")\n",
    "print(train)\n",
    "#draw a bar plot of Cabin vs. survival\n",
    "sbn.barplot(x=\"CabinBool\", y=\"Survived\", data=train)\n",
    "plt.show()\n",
    "\n",
    "print()"
   ]
  },
  {
   "cell_type": "code",
   "execution_count": 19,
   "id": "3dcb39e7",
   "metadata": {},
   "outputs": [
    {
     "name": "stdout",
     "output_type": "stream",
     "text": [
      "###################################\n",
      "\n",
      "\n",
      "     PassengerId  Survived  Pclass                                               Name     Sex   Age  SibSp  Parch            Ticket   Fare Cabin Embarked     AgeGroup  CabinBool\n",
      "0              1         0       3                            Braund, Mr. Owen Harris    male  22.0      1      0         A/5 21171   7.25   NaN        S      Student          0\n",
      "1              2         1       1  Cumings, Mrs. John Bradley (Florence Briggs Th...  female  38.0      1      0          PC 17599  71.28   C85        C        Adult          1\n",
      "2              3         1       3                             Heikkinen, Miss. Laina  female  26.0      0      0  STON/O2. 3101282   7.92   NaN        S  Young Adult          0\n",
      "3              4         1       1       Futrelle, Mrs. Jacques Heath (Lily May Peel)  female  35.0      1      0            113803  53.10  C123        S  Young Adult          1\n",
      "4              5         0       3                           Allen, Mr. William Henry    male  35.0      0      0            373450   8.05   NaN        S  Young Adult          0\n",
      "..           ...       ...     ...                                                ...     ...   ...    ...    ...               ...    ...   ...      ...          ...        ...\n",
      "886          887         0       2                              Montvila, Rev. Juozas    male  27.0      0      0            211536  13.00   NaN        S  Young Adult          0\n",
      "887          888         1       1                       Graham, Miss. Margaret Edith  female  19.0      0      0            112053  30.00   B42        S      Student          1\n",
      "888          889         0       3           Johnston, Miss. Catherine Helen \"Carrie\"  female  -0.5      1      2        W./C. 6607  23.45   NaN        S      unknown          0\n",
      "889          890         1       1                              Behr, Mr. Karl Howell    male  26.0      0      0            111369  30.00  C148        C  Young Adult          1\n",
      "890          891         0       3                                Dooley, Mr. Patrick    male  32.0      0      0            370376   7.75   NaN        Q  Young Adult          0\n",
      "\n",
      "[891 rows x 14 columns]\n",
      "Percentage of CabinBool = 1 who survived: 66.66666666666666\n",
      "Percentage of CabinBool = 0 who survived: 29.985443959243085\n"
     ]
    },
    {
     "data": {
      "image/png": "[encoded data removed]",
      "text/plain": [
       "<Figure size 432x288 with 1 Axes>"
      ]
     },
     "metadata": {
      "needs_background": "light"
     },
     "output_type": "display_data"
    }
   ],
   "source": [
    "#--------------------\n",
    "#4.F) Cabin Feature\n",
    "#--------------------\n",
    "#I think the idea here is that people with recorded cabin numbers are of higher socioeconomic class,\n",
    "# and thus more likely to survive.\n",
    "train[\"CabinBool\"] = (train[\"Cabin\"].notnull().astype('int'))\n",
    "test[\"CabinBool\"] = (test[\"Cabin\"].notnull().astype('int'))\n",
    "print( \"###################################\\n\\n\" )\n",
    "print( train )\n",
    "#calculate percentages of CabinBool vs. survived\n",
    "print(\"Percentage of CabinBool = 1 who survived:\",train[\"Survived\"] [train[\"CabinBool\"] == 1].value_counts(normalize = True)[1]*100)\n",
    "print(\"Percentage of CabinBool = 0 who survived:\",train[\"Survived\"] [train[\"CabinBool\"] == 0].value_counts(normalize = True)[1]*100)\n",
    "#draw a bar plot of CabinBool vs. survival\n",
    "sbn.barplot(x=\"CabinBool\", y=\"Survived\", data=train);"
   ]
  },
  {
   "cell_type": "code",
   "execution_count": 45,
   "id": "4c9a889f",
   "metadata": {},
   "outputs": [
    {
     "name": "stdout",
     "output_type": "stream",
     "text": [
      "        PassengerId  Pclass     Sex   SibSp   Parch  Embarked     AgeGroup  \\\n",
      "count        418.00  418.00  418.00  418.00  418.00    418.00          418   \n",
      "unique          NaN     NaN     NaN     NaN     NaN       NaN            8   \n",
      "top             NaN     NaN     NaN     NaN     NaN       NaN  Young Adult   \n",
      "freq            NaN     NaN     NaN     NaN     NaN       NaN           96   \n",
      "mean        1100.50    2.27    0.36    0.45    0.39      1.46          NaN   \n",
      "std          120.81    0.84    0.48    0.90    0.98      0.69          NaN   \n",
      "min          892.00    1.00    0.00    0.00    0.00      1.00          NaN   \n",
      "25%          996.25    1.00    0.00    0.00    0.00      1.00          NaN   \n",
      "50%         1100.50    3.00    0.00    0.00    0.00      1.00          NaN   \n",
      "75%         1204.75    3.00    1.00    1.00    0.00      2.00          NaN   \n",
      "max         1309.00    3.00    1.00    8.00    9.00      3.00          NaN   \n",
      "\n",
      "        CabinBool  Title  FareBand  \n",
      "count      418.00  418.0     418.0  \n",
      "unique        NaN    NaN       4.0  \n",
      "top           NaN    NaN       1.0  \n",
      "freq          NaN    NaN     114.0  \n",
      "mean         0.22    0.0       NaN  \n",
      "std          0.41    0.0       NaN  \n",
      "min          0.00    0.0       NaN  \n",
      "25%          0.00    0.0       NaN  \n",
      "50%          0.00    0.0       NaN  \n",
      "75%          0.00    0.0       NaN  \n",
      "max          1.00    0.0       NaN  \n"
     ]
    }
   ],
   "source": [
    "#5) Cleaning Data\n",
    "#*********************************\n",
    "#Time to clean our data to account for missing values and unnecessary information!\n",
    "#Looking at the Test Data\n",
    "#Let's see how our test data looks!\n",
    "print( test.describe(include=\"all\") )"
   ]
  },
  {
   "cell_type": "code",
   "execution_count": 52,
   "id": "37f040cd",
   "metadata": {},
   "outputs": [
    {
     "name": "stdout",
     "output_type": "stream",
     "text": [
      "        PassengerId  Pclass     Sex   SibSp   Parch  Embarked     AgeGroup  \\\n",
      "count        418.00  418.00  418.00  418.00  418.00    418.00          418   \n",
      "unique          NaN     NaN     NaN     NaN     NaN       NaN            8   \n",
      "top             NaN     NaN     NaN     NaN     NaN       NaN  Young Adult   \n",
      "freq            NaN     NaN     NaN     NaN     NaN       NaN           96   \n",
      "mean        1100.50    2.27    0.36    0.45    0.39      1.46          NaN   \n",
      "std          120.81    0.84    0.48    0.90    0.98      0.69          NaN   \n",
      "min          892.00    1.00    0.00    0.00    0.00      1.00          NaN   \n",
      "25%          996.25    1.00    0.00    0.00    0.00      1.00          NaN   \n",
      "50%         1100.50    3.00    0.00    0.00    0.00      1.00          NaN   \n",
      "75%         1204.75    3.00    1.00    1.00    0.00      2.00          NaN   \n",
      "max         1309.00    3.00    1.00    8.00    9.00      3.00          NaN   \n",
      "\n",
      "        CabinBool  Title  FareBand  \n",
      "count      418.00  418.0     418.0  \n",
      "unique        NaN    NaN       4.0  \n",
      "top           NaN    NaN       1.0  \n",
      "freq          NaN    NaN     114.0  \n",
      "mean         0.22    0.0       NaN  \n",
      "std          0.41    0.0       NaN  \n",
      "min          0.00    0.0       NaN  \n",
      "25%          0.00    0.0       NaN  \n",
      "50%          0.00    0.0       NaN  \n",
      "75%          0.00    0.0       NaN  \n",
      "max          1.00    0.0       NaN  \n"
     ]
    }
   ],
   "source": [
    "#train = train.drop(['Ticket'], axis =1)\n",
    "#test = test.drop(['Ticket'], axis =1)\n",
    "print( test.describe(include=\"all\") )"
   ]
  },
  {
   "cell_type": "code",
   "execution_count": 32,
   "id": "99232f3a",
   "metadata": {},
   "outputs": [],
   "source": [
    "#train = train.drop(['Ticket'], axis =1)\n",
    "#test = test.drop(['Ticket'], axis =1)"
   ]
  },
  {
   "cell_type": "code",
   "execution_count": 33,
   "id": "b15049e1",
   "metadata": {},
   "outputs": [
    {
     "name": "stdout",
     "output_type": "stream",
     "text": [
      "        PassengerId  Pclass              Name   Sex     Age   SibSp   Parch  \\\n",
      "count        418.00  418.00               418   418  418.00  418.00  418.00   \n",
      "unique          NaN     NaN               418     2     NaN     NaN     NaN   \n",
      "top             NaN     NaN  Kelly, Mr. James  male     NaN     NaN     NaN   \n",
      "freq            NaN     NaN                 1   266     NaN     NaN     NaN   \n",
      "mean        1100.50    2.27               NaN   NaN   23.94    0.45    0.39   \n",
      "std          120.81    0.84               NaN   NaN   17.74    0.90    0.98   \n",
      "min          892.00    1.00               NaN   NaN   -0.50    0.00    0.00   \n",
      "25%          996.25    1.00               NaN   NaN    9.00    0.00    0.00   \n",
      "50%         1100.50    3.00               NaN   NaN   24.00    0.00    0.00   \n",
      "75%         1204.75    3.00               NaN   NaN   35.75    1.00    0.00   \n",
      "max         1309.00    3.00               NaN   NaN   76.00    8.00    9.00   \n",
      "\n",
      "          Fare            Cabin Embarked     AgeGroup  CabinBool  \n",
      "count   417.00               91      418          418     418.00  \n",
      "unique     NaN               76        3            8        NaN  \n",
      "top        NaN  B57 B59 B63 B66        S  Young Adult        NaN  \n",
      "freq       NaN                3      270           96        NaN  \n",
      "mean     35.63              NaN      NaN          NaN       0.22  \n",
      "std      55.91              NaN      NaN          NaN       0.41  \n",
      "min       0.00              NaN      NaN          NaN       0.00  \n",
      "25%       7.90              NaN      NaN          NaN       0.00  \n",
      "50%      14.45              NaN      NaN          NaN       0.00  \n",
      "75%      31.50              NaN      NaN          NaN       0.00  \n",
      "max     512.33              NaN      NaN          NaN       1.00  \n"
     ]
    }
   ],
   "source": [
    "print( test.describe(include=\"all\") )"
   ]
  },
  {
   "cell_type": "code",
   "execution_count": 20,
   "id": "3fd14c04",
   "metadata": {},
   "outputs": [],
   "source": [
    "#Some Observations from above output for test.csv data\n",
    "#----------------------------------------------------\n",
    "#1) We have a total of 418 passengers.\n",
    "#2) 1 value from the Fare feature is missing in test.csv file.\n",
    "#3) Around 20.5% of the Age feature is missing in training file\n",
    "# we will need to fill that in.\n",
    "#Cabin Feature\n",
    "#we'll start off by dropping the Cabin feature since not a lot more useful information can be extracted from it.\n",
    "train = train.drop(['Cabin'], axis = 1)\n",
    "test = test.drop(['Cabin'], axis = 1)\n",
    "#Ticket Feature#we can also drop the Ticket feature since it's unlikely to yield any useful information\n",
    "train = train.drop(['Ticket'], axis = 1)\n",
    "test = test.drop(['Ticket'], axis = 1)"
   ]
  },
  {
   "cell_type": "code",
   "execution_count": 21,
   "id": "d6d8a8e3",
   "metadata": {},
   "outputs": [
    {
     "name": "stdout",
     "output_type": "stream",
     "text": [
      "Number of people embarking in Southampton(S):\n",
      "\n",
      "\n",
      "SHAPE =  (644, 12)\n",
      "SHAPE[0] =  644\n",
      "644\n",
      "Number of people embarking in Cherbourg (C):\n",
      "168\n",
      "Number of people embarking in Queenstown (Q):\n",
      "77\n"
     ]
    }
   ],
   "source": [
    "#Embarked Feature#now we need to fill in the missing values in the Embarked feature\n",
    "print( \"Number of people embarking in Southampton(S):\" , )\n",
    "print( \"\\n\\nSHAPE = \" , train[train[\"Embarked\"] == \"S\"].shape )\n",
    "print( \"SHAPE[0] = \" , train[train[\"Embarked\"] == \"S\"].shape[0] )\n",
    "southampton = train[train[\"Embarked\"] == \"S\"].shape[0]\n",
    "print( southampton )\n",
    "print( \"Number of people embarking in Cherbourg (C):\" , )\n",
    "cherbourg = train[train[\"Embarked\"] == \"C\"].shape[0]\n",
    "print( cherbourg )\n",
    "print( \"Number of people embarking in Queenstown (Q):\" , )\n",
    "queenstown = train[train[\"Embarked\"] == \"Q\"].shape[0]\n",
    "print( queenstown )\n",
    "#OUTPUT:-\n",
    "#----------\n",
    "#Number of people embarking in Southampton (S): 644\n",
    "#Number of people embarking in Cherbourg (C): 168\n",
    "#Number of people embarking in Queenstown (Q): 77\n",
    "#It's clear that the majority of people embarked in Southampton (S).\n",
    "# Let's go ahead and fill in the missing values with S.\n",
    "#replacing the missing values in the Embarked feature with  S\n",
    "train = train.fillna({\"Embarked\": \"S\"})"
   ]
  },
  {
   "cell_type": "code",
   "execution_count": 22,
   "id": "9ee336bd",
   "metadata": {},
   "outputs": [
    {
     "name": "stdout",
     "output_type": "stream",
     "text": [
      "     PassengerId  Survived  Pclass                                               Name     Sex   Age  SibSp  Parch   Fare Embarked     AgeGroup  CabinBool\n",
      "0              1         0       3                            Braund, Mr. Owen Harris    male  22.0      1      0   7.25        S      Student          0\n",
      "1              2         1       1  Cumings, Mrs. John Bradley (Florence Briggs Th...  female  38.0      1      0  71.28        C        Adult          1\n",
      "2              3         1       3                             Heikkinen, Miss. Laina  female  26.0      0      0   7.92        S  Young Adult          0\n",
      "3              4         1       1       Futrelle, Mrs. Jacques Heath (Lily May Peel)  female  35.0      1      0  53.10        S  Young Adult          1\n",
      "4              5         0       3                           Allen, Mr. William Henry    male  35.0      0      0   8.05        S  Young Adult          0\n",
      "..           ...       ...     ...                                                ...     ...   ...    ...    ...    ...      ...          ...        ...\n",
      "886          887         0       2                              Montvila, Rev. Juozas    male  27.0      0      0  13.00        S  Young Adult          0\n",
      "887          888         1       1                       Graham, Miss. Margaret Edith  female  19.0      0      0  30.00        S      Student          1\n",
      "888          889         0       3           Johnston, Miss. Catherine Helen \"Carrie\"  female  -0.5      1      2  23.45        S      unknown          0\n",
      "889          890         1       1                              Behr, Mr. Karl Howell    male  26.0      0      0  30.00        C  Young Adult          1\n",
      "890          891         0       3                                Dooley, Mr. Patrick    male  32.0      0      0   7.75        Q  Young Adult          0\n",
      "\n",
      "[891 rows x 12 columns]\n",
      "     PassengerId  Survived  Pclass                                               Name     Sex   Age  SibSp  Parch   Fare Embarked     AgeGroup  CabinBool Title\n",
      "0              1         0       3                            Braund, Mr. Owen Harris    male  22.0      1      0   7.25        S      Student          0   NaN\n",
      "1              2         1       1  Cumings, Mrs. John Bradley (Florence Briggs Th...  female  38.0      1      0  71.28        C        Adult          1   NaN\n",
      "2              3         1       3                             Heikkinen, Miss. Laina  female  26.0      0      0   7.92        S  Young Adult          0   NaN\n",
      "3              4         1       1       Futrelle, Mrs. Jacques Heath (Lily May Peel)  female  35.0      1      0  53.10        S  Young Adult          1   NaN\n",
      "4              5         0       3                           Allen, Mr. William Henry    male  35.0      0      0   8.05        S  Young Adult          0   NaN\n",
      "..           ...       ...     ...                                                ...     ...   ...    ...    ...    ...      ...          ...        ...   ...\n",
      "886          887         0       2                              Montvila, Rev. Juozas    male  27.0      0      0  13.00        S  Young Adult          0   NaN\n",
      "887          888         1       1                       Graham, Miss. Margaret Edith  female  19.0      0      0  30.00        S      Student          1   NaN\n",
      "888          889         0       3           Johnston, Miss. Catherine Helen \"Carrie\"  female  -0.5      1      2  23.45        S      unknown          0   NaN\n",
      "889          890         1       1                              Behr, Mr. Karl Howell    male  26.0      0      0  30.00        C  Young Adult          1   NaN\n",
      "890          891         0       3                                Dooley, Mr. Patrick    male  32.0      0      0   7.75        Q  Young Adult          0   NaN\n",
      "\n",
      "[891 rows x 13 columns]\n",
      "\n"
     ]
    }
   ],
   "source": [
    "combine=[train,test]\n",
    "print(combine[0])\n",
    "\n",
    "#columns=[train('Name')]\n",
    "for dataset in combine:\n",
    "    dataset['Title']=dataset['Name'].str.extract(',([A-Za-z]+)\\.', expand=False)\n",
    "print(train)\n",
    "print()"
   ]
  },
  {
   "cell_type": "code",
   "execution_count": 23,
   "id": "c3bb2491",
   "metadata": {},
   "outputs": [
    {
     "name": "stdout",
     "output_type": "stream",
     "text": [
      "Empty DataFrame\n",
      "Columns: []\n",
      "Index: []\n",
      "\n",
      "\n",
      "After grouping rare title :\n",
      "      PassengerId  Survived  Pclass                                               Name     Sex   Age  SibSp  Parch   Fare Embarked     AgeGroup  CabinBool  Title\n",
      "0              1         0       3                            Braund, Mr. Owen Harris    male  22.0      1      0   7.25        S      Student          0    NaN\n",
      "1              2         1       1  Cumings, Mrs. John Bradley (Florence Briggs Th...  female  38.0      1      0  71.28        C        Adult          1    NaN\n",
      "2              3         1       3                             Heikkinen, Miss. Laina  female  26.0      0      0   7.92        S  Young Adult          0    NaN\n",
      "3              4         1       1       Futrelle, Mrs. Jacques Heath (Lily May Peel)  female  35.0      1      0  53.10        S  Young Adult          1    NaN\n",
      "4              5         0       3                           Allen, Mr. William Henry    male  35.0      0      0   8.05        S  Young Adult          0    NaN\n",
      "..           ...       ...     ...                                                ...     ...   ...    ...    ...    ...      ...          ...        ...    ...\n",
      "886          887         0       2                              Montvila, Rev. Juozas    male  27.0      0      0  13.00        S  Young Adult          0    NaN\n",
      "887          888         1       1                       Graham, Miss. Margaret Edith  female  19.0      0      0  30.00        S      Student          1    NaN\n",
      "888          889         0       3           Johnston, Miss. Catherine Helen \"Carrie\"  female  -0.5      1      2  23.45        S      unknown          0    NaN\n",
      "889          890         1       1                              Behr, Mr. Karl Howell    male  26.0      0      0  30.00        C  Young Adult          1    NaN\n",
      "890          891         0       3                                Dooley, Mr. Patrick    male  32.0      0      0   7.75        Q  Young Adult          0    NaN\n",
      "\n",
      "[891 rows x 13 columns]\n",
      "Empty DataFrame\n",
      "Columns: [Title, Survived]\n",
      "Index: []\n"
     ]
    }
   ],
   "source": [
    "print( pd.crosstab(train['Title'], train['Sex'] ) )\n",
    "\n",
    "# replace various titles with more common names\n",
    "for dataset in combine:\n",
    "    dataset['Title'] = dataset['Title'].replace(\n",
    "        ['Lady', 'Capt', 'Col','Don', 'Dr', 'Major', 'Rev', 'Jonkheer','Dona'],'Rare')\n",
    "\n",
    "    dataset['Title'] = dataset['Title'].replace(['Countess', 'Sir'], 'Royal')\n",
    "    dataset['Title'] = dataset['Title'].replace('Mlle', 'Miss')\n",
    "    dataset['Title'] = dataset['Title'].replace('Ms','Miss')\n",
    "    dataset['Title'] = dataset['Title'].replace('Mme', 'Mrs')\n",
    "print( \"\\n\\nAfter grouping rare title :\\n\" , train )\n",
    "print( train[['Title', 'Survived']].groupby(['Title'], as_index=False).count() )"
   ]
  },
  {
   "cell_type": "code",
   "execution_count": 24,
   "id": "b5a4624a",
   "metadata": {},
   "outputs": [
    {
     "name": "stdout",
     "output_type": "stream",
     "text": [
      "\n",
      "Map each of the title groups to a numerical value.\n",
      "\n",
      "\n",
      "Afterreplacing title with neumeric values.\n",
      "\n",
      "     PassengerId  Survived  Pclass                                               Name     Sex   Age  SibSp  Parch   Fare Embarked     AgeGroup  CabinBool  Title\n",
      "0              1         0       3                            Braund, Mr. Owen Harris    male  22.0      1      0   7.25        S      Student          0    0.0\n",
      "1              2         1       1  Cumings, Mrs. John Bradley (Florence Briggs Th...  female  38.0      1      0  71.28        C        Adult          1    0.0\n",
      "2              3         1       3                             Heikkinen, Miss. Laina  female  26.0      0      0   7.92        S  Young Adult          0    0.0\n",
      "3              4         1       1       Futrelle, Mrs. Jacques Heath (Lily May Peel)  female  35.0      1      0  53.10        S  Young Adult          1    0.0\n",
      "4              5         0       3                           Allen, Mr. William Henry    male  35.0      0      0   8.05        S  Young Adult          0    0.0\n",
      "..           ...       ...     ...                                                ...     ...   ...    ...    ...    ...      ...          ...        ...    ...\n",
      "886          887         0       2                              Montvila, Rev. Juozas    male  27.0      0      0  13.00        S  Young Adult          0    0.0\n",
      "887          888         1       1                       Graham, Miss. Margaret Edith  female  19.0      0      0  30.00        S      Student          1    0.0\n",
      "888          889         0       3           Johnston, Miss. Catherine Helen \"Carrie\"  female  -0.5      1      2  23.45        S      unknown          0    0.0\n",
      "889          890         1       1                              Behr, Mr. Karl Howell    male  26.0      0      0  30.00        C  Young Adult          1    0.0\n",
      "890          891         0       3                                Dooley, Mr. Patrick    male  32.0      0      0   7.75        Q  Young Adult          0    0.0\n",
      "\n",
      "[891 rows x 13 columns]\n"
     ]
    }
   ],
   "source": [
    "print( \"\\nMap each of the title groups to a numerical value.\" )\n",
    "title_mapping = {\"Mr\": 1,\"Miss\": 2, \"Mrs\": 3, \"Master\": 4, \"Royal\": 5, \"Rare\": 6}\n",
    "\n",
    "for dataset in combine:\n",
    "    dataset['Title'] = dataset['Title'].map(title_mapping)\n",
    "    dataset['Title'] = dataset['Title'].fillna(0)\n",
    "\n",
    "print( \"\\n\\nAfterreplacing title with neumeric values.\\n\" )\n",
    "print( train )"
   ]
  },
  {
   "cell_type": "code",
   "execution_count": 44,
   "id": "d468dbe3",
   "metadata": {},
   "outputs": [
    {
     "ename": "KeyError",
     "evalue": "'Title'",
     "output_type": "error",
     "traceback": [
      "\u001b[1;31m---------------------------------------------------------------------------\u001b[0m",
      "\u001b[1;31mKeyError\u001b[0m                                  Traceback (most recent call last)",
      "\u001b[1;32m~\\anaconda3\\lib\\site-packages\\pandas\\core\\indexes\\base.py\u001b[0m in \u001b[0;36mget_loc\u001b[1;34m(self, key, method, tolerance)\u001b[0m\n\u001b[0;32m   3360\u001b[0m             \u001b[1;32mtry\u001b[0m\u001b[1;33m:\u001b[0m\u001b[1;33m\u001b[0m\u001b[1;33m\u001b[0m\u001b[0m\n\u001b[1;32m-> 3361\u001b[1;33m                 \u001b[1;32mreturn\u001b[0m \u001b[0mself\u001b[0m\u001b[1;33m.\u001b[0m\u001b[0m_engine\u001b[0m\u001b[1;33m.\u001b[0m\u001b[0mget_loc\u001b[0m\u001b[1;33m(\u001b[0m\u001b[0mcasted_key\u001b[0m\u001b[1;33m)\u001b[0m\u001b[1;33m\u001b[0m\u001b[1;33m\u001b[0m\u001b[0m\n\u001b[0m\u001b[0;32m   3362\u001b[0m             \u001b[1;32mexcept\u001b[0m \u001b[0mKeyError\u001b[0m \u001b[1;32mas\u001b[0m \u001b[0merr\u001b[0m\u001b[1;33m:\u001b[0m\u001b[1;33m\u001b[0m\u001b[1;33m\u001b[0m\u001b[0m\n",
      "\u001b[1;32m~\\anaconda3\\lib\\site-packages\\pandas\\_libs\\index.pyx\u001b[0m in \u001b[0;36mpandas._libs.index.IndexEngine.get_loc\u001b[1;34m()\u001b[0m\n",
      "\u001b[1;32m~\\anaconda3\\lib\\site-packages\\pandas\\_libs\\index.pyx\u001b[0m in \u001b[0;36mpandas._libs.index.IndexEngine.get_loc\u001b[1;34m()\u001b[0m\n",
      "\u001b[1;32mpandas\\_libs\\hashtable_class_helper.pxi\u001b[0m in \u001b[0;36mpandas._libs.hashtable.PyObjectHashTable.get_item\u001b[1;34m()\u001b[0m\n",
      "\u001b[1;32mpandas\\_libs\\hashtable_class_helper.pxi\u001b[0m in \u001b[0;36mpandas._libs.hashtable.PyObjectHashTable.get_item\u001b[1;34m()\u001b[0m\n",
      "\u001b[1;31mKeyError\u001b[0m: 'Title'",
      "\nThe above exception was the direct cause of the following exception:\n",
      "\u001b[1;31mKeyError\u001b[0m                                  Traceback (most recent call last)",
      "\u001b[1;32m~\\AppData\\Local\\Temp/ipykernel_12816/78767097.py\u001b[0m in \u001b[0;36m<module>\u001b[1;34m\u001b[0m\n\u001b[0;32m      1\u001b[0m \u001b[1;31m#Next, we'll try to predict the missing Age values from the most common age for their Title.\u001b[0m\u001b[1;33m\u001b[0m\u001b[1;33m\u001b[0m\u001b[0m\n\u001b[0;32m      2\u001b[0m \u001b[1;31m# fill missing age with mode age group for each title\u001b[0m\u001b[1;33m\u001b[0m\u001b[1;33m\u001b[0m\u001b[0m\n\u001b[1;32m----> 3\u001b[1;33m \u001b[0mmr_age\u001b[0m \u001b[1;33m=\u001b[0m \u001b[0mtrain\u001b[0m\u001b[1;33m[\u001b[0m\u001b[0mtrain\u001b[0m\u001b[1;33m[\u001b[0m\u001b[1;34m\"Title\"\u001b[0m\u001b[1;33m]\u001b[0m \u001b[1;33m==\u001b[0m \u001b[1;36m1\u001b[0m\u001b[1;33m]\u001b[0m\u001b[1;33m[\u001b[0m\u001b[1;34m\"AgeGroup\"\u001b[0m\u001b[1;33m]\u001b[0m\u001b[1;33m.\u001b[0m\u001b[0mmode\u001b[0m\u001b[1;33m(\u001b[0m\u001b[1;33m)\u001b[0m\u001b[1;33m\u001b[0m\u001b[1;33m\u001b[0m\u001b[0m\n\u001b[0m\u001b[0;32m      4\u001b[0m \u001b[0mprint\u001b[0m\u001b[1;33m(\u001b[0m \u001b[1;34m\"mode() of mr_age : \"\u001b[0m\u001b[1;33m,\u001b[0m \u001b[0mmr_age\u001b[0m \u001b[1;33m)\u001b[0m \u001b[1;31m# Mr.= Young Adult\u001b[0m\u001b[1;33m\u001b[0m\u001b[1;33m\u001b[0m\u001b[0m\n\u001b[0;32m      5\u001b[0m \u001b[0mprint\u001b[0m\u001b[1;33m(\u001b[0m \u001b[1;34m\"\\n\\n\"\u001b[0m \u001b[1;33m)\u001b[0m\u001b[1;33m\u001b[0m\u001b[1;33m\u001b[0m\u001b[0m\n",
      "\u001b[1;32m~\\anaconda3\\lib\\site-packages\\pandas\\core\\frame.py\u001b[0m in \u001b[0;36m__getitem__\u001b[1;34m(self, key)\u001b[0m\n\u001b[0;32m   3456\u001b[0m             \u001b[1;32mif\u001b[0m \u001b[0mself\u001b[0m\u001b[1;33m.\u001b[0m\u001b[0mcolumns\u001b[0m\u001b[1;33m.\u001b[0m\u001b[0mnlevels\u001b[0m \u001b[1;33m>\u001b[0m \u001b[1;36m1\u001b[0m\u001b[1;33m:\u001b[0m\u001b[1;33m\u001b[0m\u001b[1;33m\u001b[0m\u001b[0m\n\u001b[0;32m   3457\u001b[0m                 \u001b[1;32mreturn\u001b[0m \u001b[0mself\u001b[0m\u001b[1;33m.\u001b[0m\u001b[0m_getitem_multilevel\u001b[0m\u001b[1;33m(\u001b[0m\u001b[0mkey\u001b[0m\u001b[1;33m)\u001b[0m\u001b[1;33m\u001b[0m\u001b[1;33m\u001b[0m\u001b[0m\n\u001b[1;32m-> 3458\u001b[1;33m             \u001b[0mindexer\u001b[0m \u001b[1;33m=\u001b[0m \u001b[0mself\u001b[0m\u001b[1;33m.\u001b[0m\u001b[0mcolumns\u001b[0m\u001b[1;33m.\u001b[0m\u001b[0mget_loc\u001b[0m\u001b[1;33m(\u001b[0m\u001b[0mkey\u001b[0m\u001b[1;33m)\u001b[0m\u001b[1;33m\u001b[0m\u001b[1;33m\u001b[0m\u001b[0m\n\u001b[0m\u001b[0;32m   3459\u001b[0m             \u001b[1;32mif\u001b[0m \u001b[0mis_integer\u001b[0m\u001b[1;33m(\u001b[0m\u001b[0mindexer\u001b[0m\u001b[1;33m)\u001b[0m\u001b[1;33m:\u001b[0m\u001b[1;33m\u001b[0m\u001b[1;33m\u001b[0m\u001b[0m\n\u001b[0;32m   3460\u001b[0m                 \u001b[0mindexer\u001b[0m \u001b[1;33m=\u001b[0m \u001b[1;33m[\u001b[0m\u001b[0mindexer\u001b[0m\u001b[1;33m]\u001b[0m\u001b[1;33m\u001b[0m\u001b[1;33m\u001b[0m\u001b[0m\n",
      "\u001b[1;32m~\\anaconda3\\lib\\site-packages\\pandas\\core\\indexes\\base.py\u001b[0m in \u001b[0;36mget_loc\u001b[1;34m(self, key, method, tolerance)\u001b[0m\n\u001b[0;32m   3361\u001b[0m                 \u001b[1;32mreturn\u001b[0m \u001b[0mself\u001b[0m\u001b[1;33m.\u001b[0m\u001b[0m_engine\u001b[0m\u001b[1;33m.\u001b[0m\u001b[0mget_loc\u001b[0m\u001b[1;33m(\u001b[0m\u001b[0mcasted_key\u001b[0m\u001b[1;33m)\u001b[0m\u001b[1;33m\u001b[0m\u001b[1;33m\u001b[0m\u001b[0m\n\u001b[0;32m   3362\u001b[0m             \u001b[1;32mexcept\u001b[0m \u001b[0mKeyError\u001b[0m \u001b[1;32mas\u001b[0m \u001b[0merr\u001b[0m\u001b[1;33m:\u001b[0m\u001b[1;33m\u001b[0m\u001b[1;33m\u001b[0m\u001b[0m\n\u001b[1;32m-> 3363\u001b[1;33m                 \u001b[1;32mraise\u001b[0m \u001b[0mKeyError\u001b[0m\u001b[1;33m(\u001b[0m\u001b[0mkey\u001b[0m\u001b[1;33m)\u001b[0m \u001b[1;32mfrom\u001b[0m \u001b[0merr\u001b[0m\u001b[1;33m\u001b[0m\u001b[1;33m\u001b[0m\u001b[0m\n\u001b[0m\u001b[0;32m   3364\u001b[0m \u001b[1;33m\u001b[0m\u001b[0m\n\u001b[0;32m   3365\u001b[0m         \u001b[1;32mif\u001b[0m \u001b[0mis_scalar\u001b[0m\u001b[1;33m(\u001b[0m\u001b[0mkey\u001b[0m\u001b[1;33m)\u001b[0m \u001b[1;32mand\u001b[0m \u001b[0misna\u001b[0m\u001b[1;33m(\u001b[0m\u001b[0mkey\u001b[0m\u001b[1;33m)\u001b[0m \u001b[1;32mand\u001b[0m \u001b[1;32mnot\u001b[0m \u001b[0mself\u001b[0m\u001b[1;33m.\u001b[0m\u001b[0mhasnans\u001b[0m\u001b[1;33m:\u001b[0m\u001b[1;33m\u001b[0m\u001b[1;33m\u001b[0m\u001b[0m\n",
      "\u001b[1;31mKeyError\u001b[0m: 'Title'"
     ]
    }
   ],
   "source": [
    "#Next, we'll try to predict the missing Age values from the most common age for their Title.\n",
    "# fill missing age with mode age group for each title\n",
    "mr_age = train[train[\"Title\"] == 1][\"AgeGroup\"].mode() \n",
    "print( \"mode() of mr_age : \", mr_age ) # Mr.= Young Adult\n",
    "print( \"\\n\\n\" )\n",
    "miss_age = train[train[\"Title\"] == 2][\"AgeGroup\"].mode() \n",
    "#Miss.= Student\n",
    "print( \"mode() of miss_age : \", miss_age )\n",
    "print( \"\\n\\n\" )\n",
    "mrs_age = train[train[\"Title\"] == 3][\"AgeGroup\"].mode()\n",
    "#Mrs.= Adult\n",
    "print( \"mode() of mrs_age : \", mrs_age )\n",
    "print( \"\\n\\n\" )\n",
    "master_age = train[train[\"Title\"] == 4][\"AgeGroup\"].mode() # Baby\n",
    "print( \"mode() of master_age : \", master_age )\n",
    "print( \"\\n\\n\" )\n",
    "royal_age = train[train[\"Title\"] == 5][\"AgeGroup\"].mode()\n",
    "# Adult\n",
    "print( \"mode() of royal_age : \", royal_age )\n",
    "print( \"\\n\\n\" )\n",
    "rare_age = train[train[\"Title\"] == 6][\"AgeGroup\"].mode() # Adult\n",
    "print( \"mode() of rare_age : \", rare_age )\n",
    "print( \"\\n\\n**************************************************\\n\\n\" )\n",
    "print( train.describe(include=\"all\") )\n",
    "print( train )\n",
    "print( \"\\n\\n******** train[AgeGroup][0] : \\n\\n\" )\n",
    "\n",
    "for x in range(10) : #0,1,2......9 \n",
    "    print( train[\"AgeGroup\"][x] )\n",
    "\n",
    "age_title_mapping = {1: \"Young Adult\", 2: \"Student\",3: \"Adult\", 4: \"Baby\", 5: \"Adult\", 6: \"Adult\"}\n",
    "\n",
    "for x in range(len(train[\"AgeGroup\"])): # 0, 1, 2, 3......890 \n",
    "    if train[\"AgeGroup\"][x] == \"Unknown\": # x=5( means for 6th record ) \n",
    "        train[\"AgeGroup\"][x] = age_title_mapping[ train[\"Title\"][x] ]\n",
    "\n",
    "for x in range(len(test[\"AgeGroup\"])):\n",
    "    if test[\"AgeGroup\"][x] == \"Unknown\":\n",
    "        test[\"AgeGroup\"][x] = age_title_mapping[test[\"Title\"][x]]\n",
    "\n",
    "#map each Age value to a numerical value\n",
    "age_mapping = {\"Baby\":1, 'Child':2, 'Teenager':3, \"Student\":4, \"Young Adult\": 5, \"Adult\" :6 , \"Senior\": 7}\n",
    "train[\"AgeGroup\"] = train[\"AgeGroup\"].map(age_mapping)\n",
    "test[\"AgeGroup\"] = test[\"AgeGroup\"].map(age_mapping)\n",
    "print()\n",
    "print( train )    \n",
    "\n",
    "# dropping the Age feature for now, might change\n",
    "\n",
    "train = train.drop(['Age'], axis=1)\n",
    "test = test.drop(['Age'], axis=1)\n",
    "\n",
    "print( \"\\n\\nAge column droped.\" )\n",
    "print( train )\n",
    "#Name Feature\n",
    "#We can drop the name feature now that we've extracted the titles.\n",
    "#drop the name feature since it contains no more useful information.\n",
    "\n",
    "train = train.drop(['Name'], axis = 1)\n",
    "test = test.drop(['Name'], axis = 1)\n",
    "\n",
    "#Sex Feature\n",
    "#map each Sex value to a numerical value\n",
    "sex_mapping = {\"male\": 0, \"female\": 1}\n",
    "train['Sex'] = train['Sex'].map(sex_mapping)\n",
    "test['Sex'] = test['Sex'].map(sex_mapping)\n",
    "print( train )\n",
    "#Embarked Feature\n",
    "#map each Embarked value to a numerical value\n",
    "embarked_mapping = {\"S\": 1, \"C\": 2, \"Q\": 3}\n",
    "train['Embarked'] = train['Embarked'].map(embarked_mapping)\n",
    "test['Embarked'] = test['Embarked'].map(embarked_mapping)\n",
    "print()\n",
    "print( train.head() )\n",
    "#Fare Feature\n",
    "#It is time separate the fare values into some logical groups as well as\n",
    "# filling in the single missing value in the test dataset.\n",
    "#fill in missing Fare value in test set based on mean fare for that Pclass\n",
    "\n",
    "for x in range(len(test[\"Fare\"])):\n",
    "    if pd.isnull(test[\"Fare\"][x]):\n",
    "        pclass = test[\"Pclass\"][x] #Pclass = 3 \n",
    "        test[\"Fare\"][x] = round(train[ train[\"Pclass\"] == pclass ][\"Fare\"].mean(), 2)\n",
    "\n",
    "#map Fare values into groups of numerical values\n",
    "train['FareBand'] = pd.qcut(train['Fare'], 4,labels = [1, 2, 3, 4])\n",
    "test['FareBand'] = pd.qcut(test['Fare'], 4,labels = [1, 2, 3, 4])\n",
    "\n",
    "#drop Fare values\n",
    "train = train.drop(['Fare'], axis = 1)\n",
    "test = test.drop(['Fare'], axis = 1)\n",
    "\n",
    "#check train data\n",
    "print( \"\\n\\nFare column droped\\n\" )\n",
    "print( train )\n",
    "\n",
    "#check test data\n",
    "print()\n",
    "print( test.head() )\n",
    "\n",
    "#****************************************\n",
    "#6) Choosing the Best Model#****************************************\n",
    "#Splitting the Training Data\n",
    "#We will use part of our training data (20% in this case) to test the accuracy of our different models.\n",
    "\n",
    "from sklearn.model_selection import train_test_split\n",
    "input_predictors = train.drop(['Survived', 'PassengerId'], axis=1)\n",
    "ouptut_target = train[\"Survived\"]\n",
    "\n",
    "x_train, x_val, y_train, y_val = train_test_split(input_predictors, ouptut_target,test_size = 0.20, random_state = 10)\n",
    "\n",
    "#Testing Different Models\n",
    "#I will be testing the following models with my training data (got the list from here):\n",
    "#1) Logistic Regression\n",
    "#2) Gaussian Naive Bayes\n",
    "#3) Support Vector Machines\n",
    "#4) Decision Tree Classifier\n",
    "#5) Random Forest Classifier\n",
    "#6) KNN or k-Nearest Neighbors\n",
    "#For each model, we set the model, fit it with 80% of our training data,\n",
    "# predict for 20% of the training data and check the accuracy.\n",
    "\n",
    "from sklearn.metrics import accuracy_score\n",
    "\n",
    "##\n",
    "x_train = x_train.fillna(x_train.mean())\n",
    "x_val = x_val.fillna(x_val.mean())\n",
    "## for ValueError: Input contains NaN, infinity or a value too large for dtype('float64').\n",
    "\n",
    "#MODEL-1) LogisticRegression\n",
    "#------------------------------------------\n",
    "from sklearn.linear_model import LogisticRegression\n",
    "logreg = LogisticRegression()\n",
    "logreg.fit(x_train, y_train)\n",
    "y_pred = logreg.predict(x_val)\n",
    "acc_logreg = round(accuracy_score(y_pred, y_val) * 100, 2)\n",
    "print( \"MODEL-1 Accuracy of LogisticRegression : \",acc_logreg)\n",
    "#OUTPUT:-\n",
    "#MODEL-1: Accuracy of LogisticRegression : 77.09\n",
    "#MODEL-2) Gaussian Naive Bayes\n",
    "#------------------------------------------\n",
    "#from sklearn.naive_bayes import GaussianNBgaussian = GaussianNB()gaussian.fit(x_train, y_train)y_pred = gaussian.predict(x_val)acc_gaussian = round(accuracy_score(y_pred, y_val) * 100, 2)print( \"MODEL-2: Accuracy of GaussianNB : \", acc_gaussian )#OUTPUT:-#MODEL-2: Accuracy of GaussianNB : 78.68#MODEL-3) Support Vector Machines#------------------------------------------from sklearn.svm import SVCsvc = SVC()svc.fit(x_train, y_train)y_pred = svc.predict(x_val)acc_svc = round(accuracy_score(y_pred, y_val) * 100, 2)print( \"MODEL-3: Accuracy of Support Vector Machines : \", acc_svc )#OUTPUT:-#MODEL-3: Accuracy of Support Vector Machines : 82.74#MODEL-4) Decision Tree Classifier#------------------------------------------from sklearn.tree import DecisionTreeClassifierdecisiontree = DecisionTreeClassifier()decisiontree.fit(x_train, y_train)y_pred = decisiontree.predict(x_val)acc_decisiontree = round(accuracy_score(y_pred, y_val) * 100, 2)print( \"MODEL-4: Accuracy of DecisionTreeClassifier : \", acc_decisiontree )#OUTPUT:-#MODEL-4: Accuracy of DecisionTreeClassifier : 81.22#MODEL-5) Random Forest#------------------------------------------from sklearn.ensemble import RandomForestClassifierrandomforest = RandomForestClassifier()randomforest.fit(x_train, y_train)y_pred = randomforest.predict(x_val)acc_randomforest = round(accuracy_score(y_pred, y_val) * 100, 2)print( \"MODEL-5: Accuracy of RandomForestClassifier : \",acc_randomforest )#OUTPUT:-#MODEL-5: Accuracy of RandomForestClassifier : 83.25#MODEL-6) KNN or k-Nearest Neighbors#------------------------------------------from sklearn.neighbors import KNeighborsClassifierknn = KNeighborsClassifier()knn.fit(x_train, y_train)y_pred = knn.predict(x_val)acc_knn = round(accuracy_score(y_pred, y_val) * 100, 2)print( \"MODEL-6: Accuracy of k-Nearest Neighbors : \",acc_knn )#OUTPUT:-#MODEL-6: Accuracy of k-Nearest Neighbors : 77.66#Let's compare the accuracies of each model!models = pd.DataFrame({'Model': ['Logistic Regression','Gaussian Naive Bayes','Support Vector Machines','Decision Tree','Random Forest', 'KNN',],'Score': [acc_logreg, acc_gaussian, acc_svc,acc_decisiontree,acc_randomforest, acc_knn]})print()print( models.sort_values(by='Score', ascending=False) )\n",
    "\n",
    "#I decided to use the Random Forest model for the testing data.#7) Creating Submission Result File#***********************************#It is time to create a submission.csv file which includes our predictions for test data#set ids as PassengerId and predict survivalids = test['PassengerId']predictions = randomforest.predict(test.drop('PassengerId', axis=1))#set the output as a dataframe and convert to csv file named submission.csvoutput = pd.DataFrame({ 'PassengerId' : ids, 'Survived': predictions })output.to_csv('submission.csv', index=False)print( \"All survival predictions done.\" )print( \"All predictions exported to submission.csv file.\" )print( output )"
   ]
  },
  {
   "cell_type": "code",
   "execution_count": 26,
   "id": "5d4a0b79",
   "metadata": {},
   "outputs": [
    {
     "name": "stdout",
     "output_type": "stream",
     "text": [
      "MODEL-1 Accuracy of LogisticRegression :  76.54\n"
     ]
    }
   ],
   "source": [
    "print( \"MODEL-1 Accuracy of LogisticRegression : \",acc_logreg)"
   ]
  },
  {
   "cell_type": "code",
   "execution_count": 43,
   "id": "e9de38d9",
   "metadata": {},
   "outputs": [
    {
     "name": "stdout",
     "output_type": "stream",
     "text": [
      "MODEL-2: Accuracy of GaussianNB :  76.54\n",
      "MODEL-3: Accuracy of Support Vector Machines :  75.42\n",
      "MODEL-4: Accuracy of DecisionTreeClassifier :  73.74\n",
      "MODEL-5: Accuracy of RandomForestClassifier :  78.77\n",
      "MODEL-6: Accuracy of k-Nearest Neighbors :  79.33\n",
      "\n",
      "                     Model  Score\n",
      "5                      KNN  79.33\n",
      "4            Random Forest  78.77\n",
      "0      Logistic Regression  76.54\n",
      "1     Gaussian Naive Bayes  76.54\n",
      "2  Support Vector Machines  75.42\n",
      "3            Decision Tree  73.74\n"
     ]
    },
    {
     "ename": "ValueError",
     "evalue": "could not convert string to float: 'Kelly, Mr. James'",
     "output_type": "error",
     "traceback": [
      "\u001b[1;31m---------------------------------------------------------------------------\u001b[0m",
      "\u001b[1;31mValueError\u001b[0m                                Traceback (most recent call last)",
      "\u001b[1;32m~\\AppData\\Local\\Temp/ipykernel_12816/2173600300.py\u001b[0m in \u001b[0;36m<module>\u001b[1;34m\u001b[0m\n\u001b[0;32m     59\u001b[0m \u001b[0mtest\u001b[0m \u001b[1;33m=\u001b[0m \u001b[0mtest\u001b[0m\u001b[1;33m.\u001b[0m\u001b[0mfillna\u001b[0m\u001b[1;33m(\u001b[0m\u001b[0mtest\u001b[0m\u001b[1;33m.\u001b[0m\u001b[0mmean\u001b[0m\u001b[1;33m(\u001b[0m\u001b[1;33m)\u001b[0m\u001b[1;33m)\u001b[0m\u001b[1;33m\u001b[0m\u001b[1;33m\u001b[0m\u001b[0m\n\u001b[0;32m     60\u001b[0m \u001b[1;33m\u001b[0m\u001b[0m\n\u001b[1;32m---> 61\u001b[1;33m \u001b[0mpredictions\u001b[0m \u001b[1;33m=\u001b[0m \u001b[0mrandomforest\u001b[0m\u001b[1;33m.\u001b[0m\u001b[0mpredict\u001b[0m\u001b[1;33m(\u001b[0m\u001b[0mtest\u001b[0m\u001b[1;33m.\u001b[0m\u001b[0mdrop\u001b[0m\u001b[1;33m(\u001b[0m\u001b[1;34m'PassengerId'\u001b[0m\u001b[1;33m,\u001b[0m \u001b[0maxis\u001b[0m\u001b[1;33m=\u001b[0m\u001b[1;36m1\u001b[0m\u001b[1;33m)\u001b[0m\u001b[1;33m.\u001b[0m\u001b[0mfillna\u001b[0m\u001b[1;33m(\u001b[0m\u001b[0mtest\u001b[0m\u001b[1;33m.\u001b[0m\u001b[0mmean\u001b[0m\u001b[1;33m(\u001b[0m\u001b[1;33m)\u001b[0m\u001b[1;33m)\u001b[0m\u001b[1;33m)\u001b[0m\u001b[1;33m\u001b[0m\u001b[1;33m\u001b[0m\u001b[0m\n\u001b[0m\u001b[0;32m     62\u001b[0m \u001b[1;31m#set the output as a dataframe and convert to csv file named submission.csv\u001b[0m\u001b[1;33m\u001b[0m\u001b[1;33m\u001b[0m\u001b[0m\n\u001b[0;32m     63\u001b[0m \u001b[0moutput\u001b[0m \u001b[1;33m=\u001b[0m \u001b[0mpd\u001b[0m\u001b[1;33m.\u001b[0m\u001b[0mDataFrame\u001b[0m\u001b[1;33m(\u001b[0m\u001b[1;33m{\u001b[0m \u001b[1;34m'PassengerId'\u001b[0m \u001b[1;33m:\u001b[0m \u001b[0mids\u001b[0m\u001b[1;33m,\u001b[0m \u001b[1;34m'Survived'\u001b[0m\u001b[1;33m:\u001b[0m \u001b[0mpredictions\u001b[0m \u001b[1;33m}\u001b[0m\u001b[1;33m)\u001b[0m\u001b[1;33m\u001b[0m\u001b[1;33m\u001b[0m\u001b[0m\n",
      "\u001b[1;32m~\\anaconda3\\lib\\site-packages\\sklearn\\ensemble\\_forest.py\u001b[0m in \u001b[0;36mpredict\u001b[1;34m(self, X)\u001b[0m\n\u001b[0;32m    628\u001b[0m             \u001b[0mThe\u001b[0m \u001b[0mpredicted\u001b[0m \u001b[0mclasses\u001b[0m\u001b[1;33m.\u001b[0m\u001b[1;33m\u001b[0m\u001b[1;33m\u001b[0m\u001b[0m\n\u001b[0;32m    629\u001b[0m         \"\"\"\n\u001b[1;32m--> 630\u001b[1;33m         \u001b[0mproba\u001b[0m \u001b[1;33m=\u001b[0m \u001b[0mself\u001b[0m\u001b[1;33m.\u001b[0m\u001b[0mpredict_proba\u001b[0m\u001b[1;33m(\u001b[0m\u001b[0mX\u001b[0m\u001b[1;33m)\u001b[0m\u001b[1;33m\u001b[0m\u001b[1;33m\u001b[0m\u001b[0m\n\u001b[0m\u001b[0;32m    631\u001b[0m \u001b[1;33m\u001b[0m\u001b[0m\n\u001b[0;32m    632\u001b[0m         \u001b[1;32mif\u001b[0m \u001b[0mself\u001b[0m\u001b[1;33m.\u001b[0m\u001b[0mn_outputs_\u001b[0m \u001b[1;33m==\u001b[0m \u001b[1;36m1\u001b[0m\u001b[1;33m:\u001b[0m\u001b[1;33m\u001b[0m\u001b[1;33m\u001b[0m\u001b[0m\n",
      "\u001b[1;32m~\\anaconda3\\lib\\site-packages\\sklearn\\ensemble\\_forest.py\u001b[0m in \u001b[0;36mpredict_proba\u001b[1;34m(self, X)\u001b[0m\n\u001b[0;32m    672\u001b[0m         \u001b[0mcheck_is_fitted\u001b[0m\u001b[1;33m(\u001b[0m\u001b[0mself\u001b[0m\u001b[1;33m)\u001b[0m\u001b[1;33m\u001b[0m\u001b[1;33m\u001b[0m\u001b[0m\n\u001b[0;32m    673\u001b[0m         \u001b[1;31m# Check data\u001b[0m\u001b[1;33m\u001b[0m\u001b[1;33m\u001b[0m\u001b[0m\n\u001b[1;32m--> 674\u001b[1;33m         \u001b[0mX\u001b[0m \u001b[1;33m=\u001b[0m \u001b[0mself\u001b[0m\u001b[1;33m.\u001b[0m\u001b[0m_validate_X_predict\u001b[0m\u001b[1;33m(\u001b[0m\u001b[0mX\u001b[0m\u001b[1;33m)\u001b[0m\u001b[1;33m\u001b[0m\u001b[1;33m\u001b[0m\u001b[0m\n\u001b[0m\u001b[0;32m    675\u001b[0m \u001b[1;33m\u001b[0m\u001b[0m\n\u001b[0;32m    676\u001b[0m         \u001b[1;31m# Assign chunk of trees to jobs\u001b[0m\u001b[1;33m\u001b[0m\u001b[1;33m\u001b[0m\u001b[0m\n",
      "\u001b[1;32m~\\anaconda3\\lib\\site-packages\\sklearn\\ensemble\\_forest.py\u001b[0m in \u001b[0;36m_validate_X_predict\u001b[1;34m(self, X)\u001b[0m\n\u001b[0;32m    420\u001b[0m         \u001b[0mcheck_is_fitted\u001b[0m\u001b[1;33m(\u001b[0m\u001b[0mself\u001b[0m\u001b[1;33m)\u001b[0m\u001b[1;33m\u001b[0m\u001b[1;33m\u001b[0m\u001b[0m\n\u001b[0;32m    421\u001b[0m \u001b[1;33m\u001b[0m\u001b[0m\n\u001b[1;32m--> 422\u001b[1;33m         \u001b[1;32mreturn\u001b[0m \u001b[0mself\u001b[0m\u001b[1;33m.\u001b[0m\u001b[0mestimators_\u001b[0m\u001b[1;33m[\u001b[0m\u001b[1;36m0\u001b[0m\u001b[1;33m]\u001b[0m\u001b[1;33m.\u001b[0m\u001b[0m_validate_X_predict\u001b[0m\u001b[1;33m(\u001b[0m\u001b[0mX\u001b[0m\u001b[1;33m,\u001b[0m \u001b[0mcheck_input\u001b[0m\u001b[1;33m=\u001b[0m\u001b[1;32mTrue\u001b[0m\u001b[1;33m)\u001b[0m\u001b[1;33m\u001b[0m\u001b[1;33m\u001b[0m\u001b[0m\n\u001b[0m\u001b[0;32m    423\u001b[0m \u001b[1;33m\u001b[0m\u001b[0m\n\u001b[0;32m    424\u001b[0m     \u001b[1;33m@\u001b[0m\u001b[0mproperty\u001b[0m\u001b[1;33m\u001b[0m\u001b[1;33m\u001b[0m\u001b[0m\n",
      "\u001b[1;32m~\\anaconda3\\lib\\site-packages\\sklearn\\tree\\_classes.py\u001b[0m in \u001b[0;36m_validate_X_predict\u001b[1;34m(self, X, check_input)\u001b[0m\n\u001b[0;32m    405\u001b[0m         \u001b[1;34m\"\"\"Validate the training data on predict (probabilities).\"\"\"\u001b[0m\u001b[1;33m\u001b[0m\u001b[1;33m\u001b[0m\u001b[0m\n\u001b[0;32m    406\u001b[0m         \u001b[1;32mif\u001b[0m \u001b[0mcheck_input\u001b[0m\u001b[1;33m:\u001b[0m\u001b[1;33m\u001b[0m\u001b[1;33m\u001b[0m\u001b[0m\n\u001b[1;32m--> 407\u001b[1;33m             X = self._validate_data(X, dtype=DTYPE, accept_sparse=\"csr\",\n\u001b[0m\u001b[0;32m    408\u001b[0m                                     reset=False)\n\u001b[0;32m    409\u001b[0m             if issparse(X) and (X.indices.dtype != np.intc or\n",
      "\u001b[1;32m~\\anaconda3\\lib\\site-packages\\sklearn\\base.py\u001b[0m in \u001b[0;36m_validate_data\u001b[1;34m(self, X, y, reset, validate_separately, **check_params)\u001b[0m\n\u001b[0;32m    419\u001b[0m             \u001b[0mout\u001b[0m \u001b[1;33m=\u001b[0m \u001b[0mX\u001b[0m\u001b[1;33m\u001b[0m\u001b[1;33m\u001b[0m\u001b[0m\n\u001b[0;32m    420\u001b[0m         \u001b[1;32melif\u001b[0m \u001b[0misinstance\u001b[0m\u001b[1;33m(\u001b[0m\u001b[0my\u001b[0m\u001b[1;33m,\u001b[0m \u001b[0mstr\u001b[0m\u001b[1;33m)\u001b[0m \u001b[1;32mand\u001b[0m \u001b[0my\u001b[0m \u001b[1;33m==\u001b[0m \u001b[1;34m'no_validation'\u001b[0m\u001b[1;33m:\u001b[0m\u001b[1;33m\u001b[0m\u001b[1;33m\u001b[0m\u001b[0m\n\u001b[1;32m--> 421\u001b[1;33m             \u001b[0mX\u001b[0m \u001b[1;33m=\u001b[0m \u001b[0mcheck_array\u001b[0m\u001b[1;33m(\u001b[0m\u001b[0mX\u001b[0m\u001b[1;33m,\u001b[0m \u001b[1;33m**\u001b[0m\u001b[0mcheck_params\u001b[0m\u001b[1;33m)\u001b[0m\u001b[1;33m\u001b[0m\u001b[1;33m\u001b[0m\u001b[0m\n\u001b[0m\u001b[0;32m    422\u001b[0m             \u001b[0mout\u001b[0m \u001b[1;33m=\u001b[0m \u001b[0mX\u001b[0m\u001b[1;33m\u001b[0m\u001b[1;33m\u001b[0m\u001b[0m\n\u001b[0;32m    423\u001b[0m         \u001b[1;32melse\u001b[0m\u001b[1;33m:\u001b[0m\u001b[1;33m\u001b[0m\u001b[1;33m\u001b[0m\u001b[0m\n",
      "\u001b[1;32m~\\anaconda3\\lib\\site-packages\\sklearn\\utils\\validation.py\u001b[0m in \u001b[0;36minner_f\u001b[1;34m(*args, **kwargs)\u001b[0m\n\u001b[0;32m     61\u001b[0m             \u001b[0mextra_args\u001b[0m \u001b[1;33m=\u001b[0m \u001b[0mlen\u001b[0m\u001b[1;33m(\u001b[0m\u001b[0margs\u001b[0m\u001b[1;33m)\u001b[0m \u001b[1;33m-\u001b[0m \u001b[0mlen\u001b[0m\u001b[1;33m(\u001b[0m\u001b[0mall_args\u001b[0m\u001b[1;33m)\u001b[0m\u001b[1;33m\u001b[0m\u001b[1;33m\u001b[0m\u001b[0m\n\u001b[0;32m     62\u001b[0m             \u001b[1;32mif\u001b[0m \u001b[0mextra_args\u001b[0m \u001b[1;33m<=\u001b[0m \u001b[1;36m0\u001b[0m\u001b[1;33m:\u001b[0m\u001b[1;33m\u001b[0m\u001b[1;33m\u001b[0m\u001b[0m\n\u001b[1;32m---> 63\u001b[1;33m                 \u001b[1;32mreturn\u001b[0m \u001b[0mf\u001b[0m\u001b[1;33m(\u001b[0m\u001b[1;33m*\u001b[0m\u001b[0margs\u001b[0m\u001b[1;33m,\u001b[0m \u001b[1;33m**\u001b[0m\u001b[0mkwargs\u001b[0m\u001b[1;33m)\u001b[0m\u001b[1;33m\u001b[0m\u001b[1;33m\u001b[0m\u001b[0m\n\u001b[0m\u001b[0;32m     64\u001b[0m \u001b[1;33m\u001b[0m\u001b[0m\n\u001b[0;32m     65\u001b[0m             \u001b[1;31m# extra_args > 0\u001b[0m\u001b[1;33m\u001b[0m\u001b[1;33m\u001b[0m\u001b[0m\n",
      "\u001b[1;32m~\\anaconda3\\lib\\site-packages\\sklearn\\utils\\validation.py\u001b[0m in \u001b[0;36mcheck_array\u001b[1;34m(array, accept_sparse, accept_large_sparse, dtype, order, copy, force_all_finite, ensure_2d, allow_nd, ensure_min_samples, ensure_min_features, estimator)\u001b[0m\n\u001b[0;32m    671\u001b[0m                     \u001b[0marray\u001b[0m \u001b[1;33m=\u001b[0m \u001b[0marray\u001b[0m\u001b[1;33m.\u001b[0m\u001b[0mastype\u001b[0m\u001b[1;33m(\u001b[0m\u001b[0mdtype\u001b[0m\u001b[1;33m,\u001b[0m \u001b[0mcasting\u001b[0m\u001b[1;33m=\u001b[0m\u001b[1;34m\"unsafe\"\u001b[0m\u001b[1;33m,\u001b[0m \u001b[0mcopy\u001b[0m\u001b[1;33m=\u001b[0m\u001b[1;32mFalse\u001b[0m\u001b[1;33m)\u001b[0m\u001b[1;33m\u001b[0m\u001b[1;33m\u001b[0m\u001b[0m\n\u001b[0;32m    672\u001b[0m                 \u001b[1;32melse\u001b[0m\u001b[1;33m:\u001b[0m\u001b[1;33m\u001b[0m\u001b[1;33m\u001b[0m\u001b[0m\n\u001b[1;32m--> 673\u001b[1;33m                     \u001b[0marray\u001b[0m \u001b[1;33m=\u001b[0m \u001b[0mnp\u001b[0m\u001b[1;33m.\u001b[0m\u001b[0masarray\u001b[0m\u001b[1;33m(\u001b[0m\u001b[0marray\u001b[0m\u001b[1;33m,\u001b[0m \u001b[0morder\u001b[0m\u001b[1;33m=\u001b[0m\u001b[0morder\u001b[0m\u001b[1;33m,\u001b[0m \u001b[0mdtype\u001b[0m\u001b[1;33m=\u001b[0m\u001b[0mdtype\u001b[0m\u001b[1;33m)\u001b[0m\u001b[1;33m\u001b[0m\u001b[1;33m\u001b[0m\u001b[0m\n\u001b[0m\u001b[0;32m    674\u001b[0m             \u001b[1;32mexcept\u001b[0m \u001b[0mComplexWarning\u001b[0m \u001b[1;32mas\u001b[0m \u001b[0mcomplex_warning\u001b[0m\u001b[1;33m:\u001b[0m\u001b[1;33m\u001b[0m\u001b[1;33m\u001b[0m\u001b[0m\n\u001b[0;32m    675\u001b[0m                 raise ValueError(\"Complex data not supported\\n\"\n",
      "\u001b[1;32m~\\anaconda3\\lib\\site-packages\\numpy\\core\\_asarray.py\u001b[0m in \u001b[0;36masarray\u001b[1;34m(a, dtype, order, like)\u001b[0m\n\u001b[0;32m    100\u001b[0m         \u001b[1;32mreturn\u001b[0m \u001b[0m_asarray_with_like\u001b[0m\u001b[1;33m(\u001b[0m\u001b[0ma\u001b[0m\u001b[1;33m,\u001b[0m \u001b[0mdtype\u001b[0m\u001b[1;33m=\u001b[0m\u001b[0mdtype\u001b[0m\u001b[1;33m,\u001b[0m \u001b[0morder\u001b[0m\u001b[1;33m=\u001b[0m\u001b[0morder\u001b[0m\u001b[1;33m,\u001b[0m \u001b[0mlike\u001b[0m\u001b[1;33m=\u001b[0m\u001b[0mlike\u001b[0m\u001b[1;33m)\u001b[0m\u001b[1;33m\u001b[0m\u001b[1;33m\u001b[0m\u001b[0m\n\u001b[0;32m    101\u001b[0m \u001b[1;33m\u001b[0m\u001b[0m\n\u001b[1;32m--> 102\u001b[1;33m     \u001b[1;32mreturn\u001b[0m \u001b[0marray\u001b[0m\u001b[1;33m(\u001b[0m\u001b[0ma\u001b[0m\u001b[1;33m,\u001b[0m \u001b[0mdtype\u001b[0m\u001b[1;33m,\u001b[0m \u001b[0mcopy\u001b[0m\u001b[1;33m=\u001b[0m\u001b[1;32mFalse\u001b[0m\u001b[1;33m,\u001b[0m \u001b[0morder\u001b[0m\u001b[1;33m=\u001b[0m\u001b[0morder\u001b[0m\u001b[1;33m)\u001b[0m\u001b[1;33m\u001b[0m\u001b[1;33m\u001b[0m\u001b[0m\n\u001b[0m\u001b[0;32m    103\u001b[0m \u001b[1;33m\u001b[0m\u001b[0m\n\u001b[0;32m    104\u001b[0m \u001b[1;33m\u001b[0m\u001b[0m\n",
      "\u001b[1;32m~\\anaconda3\\lib\\site-packages\\pandas\\core\\generic.py\u001b[0m in \u001b[0;36m__array__\u001b[1;34m(self, dtype)\u001b[0m\n\u001b[0;32m   1991\u001b[0m \u001b[1;33m\u001b[0m\u001b[0m\n\u001b[0;32m   1992\u001b[0m     \u001b[1;32mdef\u001b[0m \u001b[0m__array__\u001b[0m\u001b[1;33m(\u001b[0m\u001b[0mself\u001b[0m\u001b[1;33m,\u001b[0m \u001b[0mdtype\u001b[0m\u001b[1;33m:\u001b[0m \u001b[0mNpDtype\u001b[0m \u001b[1;33m|\u001b[0m \u001b[1;32mNone\u001b[0m \u001b[1;33m=\u001b[0m \u001b[1;32mNone\u001b[0m\u001b[1;33m)\u001b[0m \u001b[1;33m->\u001b[0m \u001b[0mnp\u001b[0m\u001b[1;33m.\u001b[0m\u001b[0mndarray\u001b[0m\u001b[1;33m:\u001b[0m\u001b[1;33m\u001b[0m\u001b[1;33m\u001b[0m\u001b[0m\n\u001b[1;32m-> 1993\u001b[1;33m         \u001b[1;32mreturn\u001b[0m \u001b[0mnp\u001b[0m\u001b[1;33m.\u001b[0m\u001b[0masarray\u001b[0m\u001b[1;33m(\u001b[0m\u001b[0mself\u001b[0m\u001b[1;33m.\u001b[0m\u001b[0m_values\u001b[0m\u001b[1;33m,\u001b[0m \u001b[0mdtype\u001b[0m\u001b[1;33m=\u001b[0m\u001b[0mdtype\u001b[0m\u001b[1;33m)\u001b[0m\u001b[1;33m\u001b[0m\u001b[1;33m\u001b[0m\u001b[0m\n\u001b[0m\u001b[0;32m   1994\u001b[0m \u001b[1;33m\u001b[0m\u001b[0m\n\u001b[0;32m   1995\u001b[0m     def __array_wrap__(\n",
      "\u001b[1;32m~\\anaconda3\\lib\\site-packages\\numpy\\core\\_asarray.py\u001b[0m in \u001b[0;36masarray\u001b[1;34m(a, dtype, order, like)\u001b[0m\n\u001b[0;32m    100\u001b[0m         \u001b[1;32mreturn\u001b[0m \u001b[0m_asarray_with_like\u001b[0m\u001b[1;33m(\u001b[0m\u001b[0ma\u001b[0m\u001b[1;33m,\u001b[0m \u001b[0mdtype\u001b[0m\u001b[1;33m=\u001b[0m\u001b[0mdtype\u001b[0m\u001b[1;33m,\u001b[0m \u001b[0morder\u001b[0m\u001b[1;33m=\u001b[0m\u001b[0morder\u001b[0m\u001b[1;33m,\u001b[0m \u001b[0mlike\u001b[0m\u001b[1;33m=\u001b[0m\u001b[0mlike\u001b[0m\u001b[1;33m)\u001b[0m\u001b[1;33m\u001b[0m\u001b[1;33m\u001b[0m\u001b[0m\n\u001b[0;32m    101\u001b[0m \u001b[1;33m\u001b[0m\u001b[0m\n\u001b[1;32m--> 102\u001b[1;33m     \u001b[1;32mreturn\u001b[0m \u001b[0marray\u001b[0m\u001b[1;33m(\u001b[0m\u001b[0ma\u001b[0m\u001b[1;33m,\u001b[0m \u001b[0mdtype\u001b[0m\u001b[1;33m,\u001b[0m \u001b[0mcopy\u001b[0m\u001b[1;33m=\u001b[0m\u001b[1;32mFalse\u001b[0m\u001b[1;33m,\u001b[0m \u001b[0morder\u001b[0m\u001b[1;33m=\u001b[0m\u001b[0morder\u001b[0m\u001b[1;33m)\u001b[0m\u001b[1;33m\u001b[0m\u001b[1;33m\u001b[0m\u001b[0m\n\u001b[0m\u001b[0;32m    103\u001b[0m \u001b[1;33m\u001b[0m\u001b[0m\n\u001b[0;32m    104\u001b[0m \u001b[1;33m\u001b[0m\u001b[0m\n",
      "\u001b[1;31mValueError\u001b[0m: could not convert string to float: 'Kelly, Mr. James'"
     ]
    }
   ],
   "source": [
    "#MODEL-2) Gaussian Naive Bayes\n",
    "#------------------------------------------\n",
    "#\n",
    "from sklearn.naive_bayes import GaussianNB\n",
    "gaussian = GaussianNB()\n",
    "\n",
    "gaussian.fit(x_train, y_train)\n",
    "y_pred = gaussian.predict(x_val)\n",
    "acc_gaussian = round(accuracy_score(y_pred, y_val) * 100, 2)\n",
    "print( \"MODEL-2: Accuracy of GaussianNB : \", acc_gaussian )\n",
    "#OUTPUT:-\n",
    "#MODEL-2: Accuracy of GaussianNB : 78.68\n",
    "#MODEL-3) Support Vector Machines#------------------------------------------\n",
    "from sklearn.svm import SVC\n",
    "svc = SVC()\n",
    "svc.fit(x_train, y_train)\n",
    "y_pred = svc.predict(x_val)\n",
    "acc_svc = round(accuracy_score(y_pred, y_val) * 100, 2)\n",
    "print( \"MODEL-3: Accuracy of Support Vector Machines : \", acc_svc )\n",
    "#OUTPUT:-\n",
    "#MODEL-3: Accuracy of Support Vector Machines : 82.74\n",
    "#MODEL-4) Decision Tree Classifier\n",
    "#------------------------------------------\n",
    "from sklearn.tree import DecisionTreeClassifier\n",
    "decisiontree = DecisionTreeClassifier()\n",
    "decisiontree.fit(x_train, y_train)\n",
    "y_pred = decisiontree.predict(x_val)\n",
    "acc_decisiontree = round(accuracy_score(y_pred, y_val) * 100, 2)\n",
    "print( \"MODEL-4: Accuracy of DecisionTreeClassifier : \", acc_decisiontree )\n",
    "#OUTPUT:-#MODEL-4: Accuracy of DecisionTreeClassifier : 81.22\n",
    "#MODEL-5) Random Forest#------------------------------------------\n",
    "from sklearn.ensemble import RandomForestClassifier\n",
    "randomforest = RandomForestClassifier()\n",
    "randomforest.fit(x_train, y_train)\n",
    "y_pred = randomforest.predict(x_val)\n",
    "acc_randomforest = round(accuracy_score(y_pred, y_val) * 100, 2)\n",
    "print( \"MODEL-5: Accuracy of RandomForestClassifier : \",acc_randomforest )\n",
    "#OUTPUT:-#MODEL-5: Accuracy of RandomForestClassifier : 83.25\n",
    "#MODEL-6) KNN or k-Nearest Neighbors#------------------------------------------\n",
    "from sklearn.neighbors import KNeighborsClassifier\n",
    "knn = KNeighborsClassifier()\n",
    "knn.fit(x_train, y_train)\n",
    "y_pred = knn.predict(x_val)\n",
    "acc_knn = round(accuracy_score(y_pred, y_val) * 100, 2)\n",
    "print( \"MODEL-6: Accuracy of k-Nearest Neighbors : \",acc_knn \n",
    "     )#OUTPUT:-#MODEL-6: Accuracy of k-Nearest Neighbors : 77.66\n",
    "#Let's compare the accuracies of each model!\n",
    "models = pd.DataFrame({'Model': ['Logistic Regression','Gaussian Naive Bayes','Support Vector Machines','Decision Tree','Random Forest', 'KNN',],'Score': [acc_logreg, acc_gaussian, acc_svc,acc_decisiontree,acc_randomforest, acc_knn]})\n",
    "print()\n",
    "print( models.sort_values(by='Score', ascending=False) )\n",
    "\n",
    "#I decided to use the Random Forest model for the testing data.\n",
    "#7) Creating Submission Result File\n",
    "#***********************************\n",
    "#It is time to create a submission.csv file which includes our predictions for test data\n",
    "#set ids as PassengerId and predict survival\n",
    "ids = test['PassengerId']\n",
    "\n",
    "test = test.fillna(test.mean())# for same error\n",
    "\n",
    "predictions = randomforest.predict(test.drop('PassengerId', axis=1))\n",
    "#set the output as a dataframe and convert to csv file named submission.csv\n",
    "output = pd.DataFrame({ 'PassengerId' : ids, 'Survived': predictions })\n",
    "output.to_csv('submission.csv', index=False)\n",
    "print( \"All survival predictions done.\" )\n",
    "print( \"All predictions exported to submission.csv file.\" )\n",
    "print( output )"
   ]
  },
  {
   "cell_type": "code",
   "execution_count": 35,
   "id": "503b6338",
   "metadata": {},
   "outputs": [
    {
     "name": "stdout",
     "output_type": "stream",
     "text": [
      "        PassengerId  Survived  Pclass                     Name   Sex     Age  \\\n",
      "count        891.00    891.00  891.00                      891   891  714.00   \n",
      "unique          NaN       NaN     NaN                      891     2     NaN   \n",
      "top             NaN       NaN     NaN  Braund, Mr. Owen Harris  male     NaN   \n",
      "freq            NaN       NaN     NaN                        1   577     NaN   \n",
      "mean         446.00      0.38    2.31                      NaN   NaN   29.70   \n",
      "std          257.35      0.49    0.84                      NaN   NaN   14.53   \n",
      "min            1.00      0.00    1.00                      NaN   NaN    0.42   \n",
      "25%          223.50      0.00    2.00                      NaN   NaN   20.12   \n",
      "50%          446.00      0.00    3.00                      NaN   NaN   28.00   \n",
      "75%          668.50      1.00    3.00                      NaN   NaN   38.00   \n",
      "max          891.00      1.00    3.00                      NaN   NaN   80.00   \n",
      "\n",
      "         SibSp   Parch  Ticket    Fare    Cabin Embarked  \n",
      "count   891.00  891.00     891  891.00      204      889  \n",
      "unique     NaN     NaN     681     NaN      147        3  \n",
      "top        NaN     NaN  347082     NaN  B96 B98        S  \n",
      "freq       NaN     NaN       7     NaN        4      644  \n",
      "mean      0.52    0.38     NaN   32.20      NaN      NaN  \n",
      "std       1.10    0.81     NaN   49.69      NaN      NaN  \n",
      "min       0.00    0.00     NaN    0.00      NaN      NaN  \n",
      "25%       0.00    0.00     NaN    7.91      NaN      NaN  \n",
      "50%       0.00    0.00     NaN   14.45      NaN      NaN  \n",
      "75%       1.00    0.00     NaN   31.00      NaN      NaN  \n",
      "max       8.00    6.00     NaN  512.33      NaN      NaN  \n"
     ]
    }
   ],
   "source": [
    "print( train.describe(include=\"all\") )"
   ]
  }
 ],
 "metadata": {
  "kernelspec": {
   "display_name": "Python 3 (ipykernel)",
   "language": "python",
   "name": "python3"
  },
  "language_info": {
   "codemirror_mode": {
    "name": "ipython",
    "version": 3
   },
   "file_extension": ".py",
   "mimetype": "text/x-python",
   "name": "python",
   "nbconvert_exporter": "python",
   "pygments_lexer": "ipython3",
   "version": "3.9.7"
  }
 },
 "nbformat": 4,
 "nbformat_minor": 5
}
